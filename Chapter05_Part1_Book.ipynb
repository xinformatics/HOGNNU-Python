{
 "cells": [
  {
   "cell_type": "markdown",
   "id": "0d3b9563-6247-42f5-8a94-cd84f3015bd7",
   "metadata": {},
   "source": [
    "## Chapter 5: Include Node Features with Vanilla Neural Networks"
   ]
  },
  {
   "cell_type": "markdown",
   "id": "34965825-f4f8-467c-9611-7f0ebdd90079",
   "metadata": {},
   "source": [
    "## here we will see node classification ;\n",
    "## first with vanilla NNs\n",
    "## second with vanilla GNNs"
   ]
  },
  {
   "cell_type": "markdown",
   "id": "bca93ed1-29d6-4ea8-862c-5820890c42f3",
   "metadata": {},
   "source": [
    "## the CORA dataset\n",
    "### 2708 pubs - nodes\n",
    "### node feature length 1433 = binary bag or words as per NLP\n",
    "### 7 classes of nodes - Node classification task\n",
    "### Edges = 10556 -  as per [Pytorch Geometric](https://pytorch-geometric.readthedocs.io/en/latest/generated/torch_geometric.datasets.Planetoid.html)"
   ]
  },
  {
   "cell_type": "code",
   "execution_count": 1,
   "id": "1c43698c-e6d2-4d1f-8449-a7768661829c",
   "metadata": {},
   "outputs": [],
   "source": [
    "from torch_geometric.datasets import Planetoid"
   ]
  },
  {
   "cell_type": "code",
   "execution_count": 6,
   "id": "6a43487e-6e43-4208-8c37-e9eb81ec7595",
   "metadata": {},
   "outputs": [],
   "source": [
    "dataset_CORA = Planetoid(root=\".\", name=\"Cora\") \n",
    "### I added a suffix to dataset because\n",
    "### I plan to use other datasets to do the same analysis and learn more"
   ]
  },
  {
   "cell_type": "code",
   "execution_count": 20,
   "id": "380a8551-fb29-4c2e-a658-2134e6ec2cfe",
   "metadata": {},
   "outputs": [],
   "source": [
    "data_graph_CORA = dataset_CORA[0] # get the cora graph"
   ]
  },
  {
   "cell_type": "code",
   "execution_count": 21,
   "id": "e5aaa892-fe2f-47bd-8203-da316cbaaf4b",
   "metadata": {},
   "outputs": [
    {
     "data": {
      "text/plain": [
       "Data(x=[2708, 1433], edge_index=[2, 10556], y=[2708], train_mask=[2708], val_mask=[2708], test_mask=[2708])"
      ]
     },
     "execution_count": 21,
     "metadata": {},
     "output_type": "execute_result"
    }
   ],
   "source": [
    "data_graph_CORA"
   ]
  },
  {
   "cell_type": "code",
   "execution_count": 22,
   "id": "5da3e58b-8acb-4e8b-8601-291b15ba7a49",
   "metadata": {},
   "outputs": [
    {
     "name": "stdout",
     "output_type": "stream",
     "text": [
      "Dataset: Cora()\n",
      "---------------\n",
      "Number of graphs: 1\n",
      "Number of nodes: 2708\n",
      "Number of features: 1433\n",
      "Number of classes: 7\n",
      "\n",
      "Graph:\n",
      "------\n",
      "Edges are directed: False\n",
      "Graph has isolated nodes: False\n",
      "Graph has loops: False\n"
     ]
    }
   ],
   "source": [
    "# Print information about the dataset\n",
    "print(f'Dataset: {dataset_CORA}')\n",
    "print('---------------')\n",
    "print(f'Number of graphs: {len(dataset_CORA)}')\n",
    "print(f'Number of nodes: {data_graph_CORA.x.shape[0]}')\n",
    "print(f'Number of features: {dataset_CORA.num_features}')\n",
    "print(f'Number of classes: {dataset_CORA.num_classes}')\n",
    "\n",
    "# Print information about the graph\n",
    "print(f'\\nGraph:')\n",
    "print('------')\n",
    "print(f'Edges are directed: {data_graph_CORA.is_directed()}')\n",
    "print(f'Graph has isolated nodes: {data_graph_CORA.has_isolated_nodes()}')\n",
    "print(f'Graph has loops: {data_graph_CORA.has_self_loops()}')"
   ]
  },
  {
   "cell_type": "markdown",
   "id": "0cad3b03-4db2-41c2-8193-2a81104f5053",
   "metadata": {},
   "source": [
    "## The FB - Page-Page dataset"
   ]
  },
  {
   "cell_type": "markdown",
   "id": "1c7bdf5e-edac-400f-9abb-e5b71c7435a1",
   "metadata": {},
   "source": [
    "### nodes = 22470\n",
    "### edges = ???\n",
    "### node feature dim = 128\n",
    "### node classification task with 4 classes"
   ]
  },
  {
   "cell_type": "code",
   "execution_count": 15,
   "id": "1aea2d6f-56dd-45a4-bdc9-0c9d10d6d5bf",
   "metadata": {},
   "outputs": [],
   "source": [
    "from torch_geometric.datasets import FacebookPagePage"
   ]
  },
  {
   "cell_type": "code",
   "execution_count": 17,
   "id": "a40dfd70-8594-49d8-a941-1cab39022058",
   "metadata": {},
   "outputs": [
    {
     "name": "stderr",
     "output_type": "stream",
     "text": [
      "Downloading https://graphmining.ai/datasets/ptg/facebook.npz\n",
      "Processing...\n",
      "Done!\n"
     ]
    }
   ],
   "source": [
    "dataset_FBPP = FacebookPagePage(root=\"./facebook_pagepage\")"
   ]
  },
  {
   "cell_type": "code",
   "execution_count": 55,
   "id": "ab099b16-668b-432f-a77d-c3331228677f",
   "metadata": {},
   "outputs": [
    {
     "data": {
      "text/plain": [
       "Data(x=[22470, 128], edge_index=[2, 342004], y=[22470])"
      ]
     },
     "execution_count": 55,
     "metadata": {},
     "output_type": "execute_result"
    }
   ],
   "source": [
    "dataset_FBPP.data"
   ]
  },
  {
   "cell_type": "code",
   "execution_count": 23,
   "id": "7a7439a4-d309-4e85-b887-f7c08f641f50",
   "metadata": {},
   "outputs": [],
   "source": [
    "data_graph_FBPP = dataset_FBPP[0] # the graph"
   ]
  },
  {
   "cell_type": "code",
   "execution_count": 24,
   "id": "cd94a3f6-0868-4835-a7d3-cf28b43b40b8",
   "metadata": {},
   "outputs": [
    {
     "name": "stdout",
     "output_type": "stream",
     "text": [
      "Dataset: FacebookPagePage()\n",
      "---------------\n",
      "Number of graphs: 1\n",
      "Number of nodes: 22470\n",
      "Number of features: 128\n",
      "Number of classes: 4\n",
      "\n",
      "Graph:\n",
      "------\n",
      "Edges are directed: False\n",
      "Graph has isolated nodes: False\n",
      "Graph has loops: True\n"
     ]
    }
   ],
   "source": [
    "# Print information about the dataset\n",
    "print(f'Dataset: {dataset_FBPP}')\n",
    "print('---------------')\n",
    "print(f'Number of graphs: {len(dataset_FBPP)}')\n",
    "print(f'Number of nodes: {data_graph_FBPP.x.shape[0]}')\n",
    "print(f'Number of features: {dataset_FBPP.num_features}')\n",
    "print(f'Number of classes: {dataset_FBPP.num_classes}')\n",
    "\n",
    "# Print information about the graph\n",
    "print(f'\\nGraph:')\n",
    "print('------')\n",
    "print(f'Edges are directed: {data_graph_FBPP.is_directed()}')\n",
    "print(f'Graph has isolated nodes: {data_graph_FBPP.has_isolated_nodes()}')\n",
    "print(f'Graph has loops: {data_graph_FBPP.has_self_loops()}')"
   ]
  },
  {
   "cell_type": "code",
   "execution_count": 25,
   "id": "e29b1d65-f58d-4a00-b912-6c450e73b00e",
   "metadata": {},
   "outputs": [],
   "source": [
    "## FBPP doesn't have training, evaluation, test by default so we make them\n"
   ]
  },
  {
   "cell_type": "code",
   "execution_count": 26,
   "id": "220bff56-3b9e-4bf6-a0b8-e73fe5a85b0d",
   "metadata": {},
   "outputs": [],
   "source": [
    "data_graph_FBPP.train_mask = range(18000)\n",
    "data_graph_FBPP.val_mask = range(18001, 20000)\n",
    "data_graph_FBPP.test_mask = range(20001, 22470)"
   ]
  },
  {
   "cell_type": "code",
   "execution_count": 59,
   "id": "df5b2b15-f323-4748-bf55-045f4b5f6dda",
   "metadata": {},
   "outputs": [],
   "source": [
    "dataset_FBPP.data.train_mask = range(18000)\n",
    "dataset_FBPP.data.val_mask = range(18001, 20000)\n",
    "dataset_FBPP.data.test_mask = range(20001, 22470)"
   ]
  },
  {
   "cell_type": "markdown",
   "id": "4c9c314a-5a31-4688-b5f8-c98fed7a0194",
   "metadata": {},
   "source": [
    "### MLP on Cora"
   ]
  },
  {
   "cell_type": "code",
   "execution_count": 28,
   "id": "ade9362d-72c6-4fae-89a7-5bcf24a00c02",
   "metadata": {},
   "outputs": [],
   "source": [
    "import pandas as pd\n",
    "\n",
    "df_x = pd.DataFrame(data_graph_CORA.x.numpy())\n",
    "\n",
    "df_x['label'] = pd.DataFrame(data_graph_CORA.y)"
   ]
  },
  {
   "cell_type": "code",
   "execution_count": 29,
   "id": "9f2ea0db-4dfe-44c0-bd71-03a149274adc",
   "metadata": {},
   "outputs": [
    {
     "data": {
      "text/html": [
       "<div>\n",
       "<style scoped>\n",
       "    .dataframe tbody tr th:only-of-type {\n",
       "        vertical-align: middle;\n",
       "    }\n",
       "\n",
       "    .dataframe tbody tr th {\n",
       "        vertical-align: top;\n",
       "    }\n",
       "\n",
       "    .dataframe thead th {\n",
       "        text-align: right;\n",
       "    }\n",
       "</style>\n",
       "<table border=\"1\" class=\"dataframe\">\n",
       "  <thead>\n",
       "    <tr style=\"text-align: right;\">\n",
       "      <th></th>\n",
       "      <th>0</th>\n",
       "      <th>1</th>\n",
       "      <th>2</th>\n",
       "      <th>3</th>\n",
       "      <th>4</th>\n",
       "      <th>5</th>\n",
       "      <th>6</th>\n",
       "      <th>7</th>\n",
       "      <th>8</th>\n",
       "      <th>9</th>\n",
       "      <th>...</th>\n",
       "      <th>1424</th>\n",
       "      <th>1425</th>\n",
       "      <th>1426</th>\n",
       "      <th>1427</th>\n",
       "      <th>1428</th>\n",
       "      <th>1429</th>\n",
       "      <th>1430</th>\n",
       "      <th>1431</th>\n",
       "      <th>1432</th>\n",
       "      <th>label</th>\n",
       "    </tr>\n",
       "  </thead>\n",
       "  <tbody>\n",
       "    <tr>\n",
       "      <th>0</th>\n",
       "      <td>0.0</td>\n",
       "      <td>0.0</td>\n",
       "      <td>0.0</td>\n",
       "      <td>0.0</td>\n",
       "      <td>0.0</td>\n",
       "      <td>0.0</td>\n",
       "      <td>0.0</td>\n",
       "      <td>0.0</td>\n",
       "      <td>0.0</td>\n",
       "      <td>0.0</td>\n",
       "      <td>...</td>\n",
       "      <td>0.0</td>\n",
       "      <td>0.0</td>\n",
       "      <td>0.0</td>\n",
       "      <td>0.0</td>\n",
       "      <td>0.0</td>\n",
       "      <td>0.0</td>\n",
       "      <td>0.0</td>\n",
       "      <td>0.0</td>\n",
       "      <td>0.0</td>\n",
       "      <td>3</td>\n",
       "    </tr>\n",
       "    <tr>\n",
       "      <th>1</th>\n",
       "      <td>0.0</td>\n",
       "      <td>0.0</td>\n",
       "      <td>0.0</td>\n",
       "      <td>0.0</td>\n",
       "      <td>0.0</td>\n",
       "      <td>0.0</td>\n",
       "      <td>0.0</td>\n",
       "      <td>0.0</td>\n",
       "      <td>0.0</td>\n",
       "      <td>0.0</td>\n",
       "      <td>...</td>\n",
       "      <td>0.0</td>\n",
       "      <td>0.0</td>\n",
       "      <td>0.0</td>\n",
       "      <td>0.0</td>\n",
       "      <td>0.0</td>\n",
       "      <td>0.0</td>\n",
       "      <td>0.0</td>\n",
       "      <td>0.0</td>\n",
       "      <td>0.0</td>\n",
       "      <td>4</td>\n",
       "    </tr>\n",
       "    <tr>\n",
       "      <th>2</th>\n",
       "      <td>0.0</td>\n",
       "      <td>0.0</td>\n",
       "      <td>0.0</td>\n",
       "      <td>0.0</td>\n",
       "      <td>0.0</td>\n",
       "      <td>0.0</td>\n",
       "      <td>0.0</td>\n",
       "      <td>0.0</td>\n",
       "      <td>0.0</td>\n",
       "      <td>0.0</td>\n",
       "      <td>...</td>\n",
       "      <td>0.0</td>\n",
       "      <td>0.0</td>\n",
       "      <td>0.0</td>\n",
       "      <td>0.0</td>\n",
       "      <td>0.0</td>\n",
       "      <td>0.0</td>\n",
       "      <td>0.0</td>\n",
       "      <td>0.0</td>\n",
       "      <td>0.0</td>\n",
       "      <td>4</td>\n",
       "    </tr>\n",
       "    <tr>\n",
       "      <th>3</th>\n",
       "      <td>0.0</td>\n",
       "      <td>0.0</td>\n",
       "      <td>0.0</td>\n",
       "      <td>0.0</td>\n",
       "      <td>0.0</td>\n",
       "      <td>0.0</td>\n",
       "      <td>0.0</td>\n",
       "      <td>0.0</td>\n",
       "      <td>0.0</td>\n",
       "      <td>0.0</td>\n",
       "      <td>...</td>\n",
       "      <td>0.0</td>\n",
       "      <td>0.0</td>\n",
       "      <td>0.0</td>\n",
       "      <td>0.0</td>\n",
       "      <td>0.0</td>\n",
       "      <td>0.0</td>\n",
       "      <td>0.0</td>\n",
       "      <td>0.0</td>\n",
       "      <td>0.0</td>\n",
       "      <td>0</td>\n",
       "    </tr>\n",
       "    <tr>\n",
       "      <th>4</th>\n",
       "      <td>0.0</td>\n",
       "      <td>0.0</td>\n",
       "      <td>0.0</td>\n",
       "      <td>1.0</td>\n",
       "      <td>0.0</td>\n",
       "      <td>0.0</td>\n",
       "      <td>0.0</td>\n",
       "      <td>0.0</td>\n",
       "      <td>0.0</td>\n",
       "      <td>0.0</td>\n",
       "      <td>...</td>\n",
       "      <td>0.0</td>\n",
       "      <td>0.0</td>\n",
       "      <td>0.0</td>\n",
       "      <td>0.0</td>\n",
       "      <td>0.0</td>\n",
       "      <td>0.0</td>\n",
       "      <td>0.0</td>\n",
       "      <td>0.0</td>\n",
       "      <td>0.0</td>\n",
       "      <td>3</td>\n",
       "    </tr>\n",
       "    <tr>\n",
       "      <th>...</th>\n",
       "      <td>...</td>\n",
       "      <td>...</td>\n",
       "      <td>...</td>\n",
       "      <td>...</td>\n",
       "      <td>...</td>\n",
       "      <td>...</td>\n",
       "      <td>...</td>\n",
       "      <td>...</td>\n",
       "      <td>...</td>\n",
       "      <td>...</td>\n",
       "      <td>...</td>\n",
       "      <td>...</td>\n",
       "      <td>...</td>\n",
       "      <td>...</td>\n",
       "      <td>...</td>\n",
       "      <td>...</td>\n",
       "      <td>...</td>\n",
       "      <td>...</td>\n",
       "      <td>...</td>\n",
       "      <td>...</td>\n",
       "      <td>...</td>\n",
       "    </tr>\n",
       "    <tr>\n",
       "      <th>2703</th>\n",
       "      <td>0.0</td>\n",
       "      <td>0.0</td>\n",
       "      <td>0.0</td>\n",
       "      <td>0.0</td>\n",
       "      <td>0.0</td>\n",
       "      <td>1.0</td>\n",
       "      <td>0.0</td>\n",
       "      <td>0.0</td>\n",
       "      <td>0.0</td>\n",
       "      <td>0.0</td>\n",
       "      <td>...</td>\n",
       "      <td>0.0</td>\n",
       "      <td>1.0</td>\n",
       "      <td>0.0</td>\n",
       "      <td>0.0</td>\n",
       "      <td>0.0</td>\n",
       "      <td>0.0</td>\n",
       "      <td>0.0</td>\n",
       "      <td>0.0</td>\n",
       "      <td>0.0</td>\n",
       "      <td>3</td>\n",
       "    </tr>\n",
       "    <tr>\n",
       "      <th>2704</th>\n",
       "      <td>0.0</td>\n",
       "      <td>0.0</td>\n",
       "      <td>1.0</td>\n",
       "      <td>0.0</td>\n",
       "      <td>0.0</td>\n",
       "      <td>0.0</td>\n",
       "      <td>0.0</td>\n",
       "      <td>0.0</td>\n",
       "      <td>0.0</td>\n",
       "      <td>0.0</td>\n",
       "      <td>...</td>\n",
       "      <td>0.0</td>\n",
       "      <td>0.0</td>\n",
       "      <td>0.0</td>\n",
       "      <td>0.0</td>\n",
       "      <td>0.0</td>\n",
       "      <td>0.0</td>\n",
       "      <td>0.0</td>\n",
       "      <td>0.0</td>\n",
       "      <td>0.0</td>\n",
       "      <td>3</td>\n",
       "    </tr>\n",
       "    <tr>\n",
       "      <th>2705</th>\n",
       "      <td>0.0</td>\n",
       "      <td>0.0</td>\n",
       "      <td>0.0</td>\n",
       "      <td>0.0</td>\n",
       "      <td>0.0</td>\n",
       "      <td>0.0</td>\n",
       "      <td>0.0</td>\n",
       "      <td>0.0</td>\n",
       "      <td>0.0</td>\n",
       "      <td>0.0</td>\n",
       "      <td>...</td>\n",
       "      <td>0.0</td>\n",
       "      <td>0.0</td>\n",
       "      <td>0.0</td>\n",
       "      <td>0.0</td>\n",
       "      <td>0.0</td>\n",
       "      <td>0.0</td>\n",
       "      <td>0.0</td>\n",
       "      <td>0.0</td>\n",
       "      <td>0.0</td>\n",
       "      <td>3</td>\n",
       "    </tr>\n",
       "    <tr>\n",
       "      <th>2706</th>\n",
       "      <td>0.0</td>\n",
       "      <td>0.0</td>\n",
       "      <td>0.0</td>\n",
       "      <td>0.0</td>\n",
       "      <td>0.0</td>\n",
       "      <td>0.0</td>\n",
       "      <td>0.0</td>\n",
       "      <td>0.0</td>\n",
       "      <td>0.0</td>\n",
       "      <td>0.0</td>\n",
       "      <td>...</td>\n",
       "      <td>0.0</td>\n",
       "      <td>0.0</td>\n",
       "      <td>0.0</td>\n",
       "      <td>0.0</td>\n",
       "      <td>0.0</td>\n",
       "      <td>0.0</td>\n",
       "      <td>0.0</td>\n",
       "      <td>0.0</td>\n",
       "      <td>0.0</td>\n",
       "      <td>3</td>\n",
       "    </tr>\n",
       "    <tr>\n",
       "      <th>2707</th>\n",
       "      <td>0.0</td>\n",
       "      <td>0.0</td>\n",
       "      <td>0.0</td>\n",
       "      <td>0.0</td>\n",
       "      <td>0.0</td>\n",
       "      <td>0.0</td>\n",
       "      <td>0.0</td>\n",
       "      <td>0.0</td>\n",
       "      <td>0.0</td>\n",
       "      <td>0.0</td>\n",
       "      <td>...</td>\n",
       "      <td>0.0</td>\n",
       "      <td>0.0</td>\n",
       "      <td>0.0</td>\n",
       "      <td>0.0</td>\n",
       "      <td>0.0</td>\n",
       "      <td>0.0</td>\n",
       "      <td>0.0</td>\n",
       "      <td>0.0</td>\n",
       "      <td>0.0</td>\n",
       "      <td>3</td>\n",
       "    </tr>\n",
       "  </tbody>\n",
       "</table>\n",
       "<p>2708 rows × 1434 columns</p>\n",
       "</div>"
      ],
      "text/plain": [
       "        0    1    2    3    4    5    6    7    8    9  ...  1424  1425  1426   \n",
       "0     0.0  0.0  0.0  0.0  0.0  0.0  0.0  0.0  0.0  0.0  ...   0.0   0.0   0.0  \\\n",
       "1     0.0  0.0  0.0  0.0  0.0  0.0  0.0  0.0  0.0  0.0  ...   0.0   0.0   0.0   \n",
       "2     0.0  0.0  0.0  0.0  0.0  0.0  0.0  0.0  0.0  0.0  ...   0.0   0.0   0.0   \n",
       "3     0.0  0.0  0.0  0.0  0.0  0.0  0.0  0.0  0.0  0.0  ...   0.0   0.0   0.0   \n",
       "4     0.0  0.0  0.0  1.0  0.0  0.0  0.0  0.0  0.0  0.0  ...   0.0   0.0   0.0   \n",
       "...   ...  ...  ...  ...  ...  ...  ...  ...  ...  ...  ...   ...   ...   ...   \n",
       "2703  0.0  0.0  0.0  0.0  0.0  1.0  0.0  0.0  0.0  0.0  ...   0.0   1.0   0.0   \n",
       "2704  0.0  0.0  1.0  0.0  0.0  0.0  0.0  0.0  0.0  0.0  ...   0.0   0.0   0.0   \n",
       "2705  0.0  0.0  0.0  0.0  0.0  0.0  0.0  0.0  0.0  0.0  ...   0.0   0.0   0.0   \n",
       "2706  0.0  0.0  0.0  0.0  0.0  0.0  0.0  0.0  0.0  0.0  ...   0.0   0.0   0.0   \n",
       "2707  0.0  0.0  0.0  0.0  0.0  0.0  0.0  0.0  0.0  0.0  ...   0.0   0.0   0.0   \n",
       "\n",
       "      1427  1428  1429  1430  1431  1432  label  \n",
       "0      0.0   0.0   0.0   0.0   0.0   0.0      3  \n",
       "1      0.0   0.0   0.0   0.0   0.0   0.0      4  \n",
       "2      0.0   0.0   0.0   0.0   0.0   0.0      4  \n",
       "3      0.0   0.0   0.0   0.0   0.0   0.0      0  \n",
       "4      0.0   0.0   0.0   0.0   0.0   0.0      3  \n",
       "...    ...   ...   ...   ...   ...   ...    ...  \n",
       "2703   0.0   0.0   0.0   0.0   0.0   0.0      3  \n",
       "2704   0.0   0.0   0.0   0.0   0.0   0.0      3  \n",
       "2705   0.0   0.0   0.0   0.0   0.0   0.0      3  \n",
       "2706   0.0   0.0   0.0   0.0   0.0   0.0      3  \n",
       "2707   0.0   0.0   0.0   0.0   0.0   0.0      3  \n",
       "\n",
       "[2708 rows x 1434 columns]"
      ]
     },
     "execution_count": 29,
     "metadata": {},
     "output_type": "execute_result"
    }
   ],
   "source": [
    "df_x"
   ]
  },
  {
   "cell_type": "code",
   "execution_count": 30,
   "id": "d4cec733-2754-4298-871d-37b435697287",
   "metadata": {},
   "outputs": [],
   "source": [
    "import torch\n",
    "torch.manual_seed(0)\n",
    "from torch.nn import Linear\n",
    "import torch.nn.functional as F"
   ]
  },
  {
   "cell_type": "code",
   "execution_count": 31,
   "id": "39b4f8f2-82a7-4c38-8027-ea00b6aec323",
   "metadata": {},
   "outputs": [],
   "source": [
    "def accuracy(y_pred, y_true):\n",
    "    return torch.sum(y_pred == y_true) / len(y_true)"
   ]
  },
  {
   "cell_type": "code",
   "execution_count": 46,
   "id": "702de6e7-c131-4794-96d8-6dc2347ce523",
   "metadata": {},
   "outputs": [],
   "source": [
    "class MLP(torch.nn.Module):\n",
    "    \n",
    "    def __init__(self, dim_in, dim_h, dim_out):\n",
    "        super().__init__()\n",
    "        self.linear1 = Linear(dim_in, dim_h)\n",
    "        self.linear2 = Linear(dim_h, dim_out)\n",
    "        \n",
    "    def forward(self, x):\n",
    "        x = self.linear1(x)\n",
    "        x = torch.relu(x)\n",
    "        x = self.linear2(x)\n",
    "        \n",
    "        return F.log_softmax(x, dim=1)\n",
    "    \n",
    "    def fit(self, data, epochs):\n",
    "        criterion = torch.nn.CrossEntropyLoss()\n",
    "        optimizer = torch.optim.Adam(self.parameters(), lr=0.01, weight_decay=5e-4)\n",
    "        self.train()\n",
    "        \n",
    "        for epoch in range(epochs+1):\n",
    "            optimizer.zero_grad()\n",
    "            out = self(data.x)\n",
    "            loss = criterion(out[data.train_mask], data.y[data.train_mask])\n",
    "            acc = accuracy(out[data.train_mask].argmax(dim=1),\n",
    "                          data.y[data.train_mask])\n",
    "            \n",
    "            loss.backward()\n",
    "            optimizer.step()\n",
    "            \n",
    "            if epoch % 20 ==0:\n",
    "                val_loss = criterion(out[data.val_mask], data.y[data.val_mask])\n",
    "                val_acc = accuracy(out[data.val_mask].argmax(dim=1), data.y[data.val_mask])\n",
    "                print(f'Epoch {epoch:>3} | Train Loss: {loss:.3f} | Train Acc:'\n",
    "                      f' {acc*100:>5.2f}% | Val Loss: {val_loss:.2f} | '\n",
    "                      f'Val Acc: {val_acc*100:.2f}%')\n",
    "\n",
    "    @torch.no_grad()      \n",
    "    def test(self, data):\n",
    "        self.eval()\n",
    "        out = self(data.x)\n",
    "        acc = accuracy(out.argmax(dim=1)[data.test_mask], data.y[data.test_mask])\n",
    "        return acc\n",
    "                \n"
   ]
  },
  {
   "cell_type": "code",
   "execution_count": 47,
   "id": "aaaa6839-ce53-4d39-b9ad-1a8771bf0afc",
   "metadata": {},
   "outputs": [],
   "source": [
    "mlp = MLP(dataset_CORA.num_features, 16, dataset_CORA.num_classes)"
   ]
  },
  {
   "cell_type": "code",
   "execution_count": 48,
   "id": "1e5b8bee-29e9-4e2a-b862-e1d9baecb08f",
   "metadata": {},
   "outputs": [
    {
     "name": "stdout",
     "output_type": "stream",
     "text": [
      "MLP(\n",
      "  (linear1): Linear(in_features=1433, out_features=16, bias=True)\n",
      "  (linear2): Linear(in_features=16, out_features=7, bias=True)\n",
      ")\n"
     ]
    }
   ],
   "source": [
    "print(mlp)"
   ]
  },
  {
   "cell_type": "code",
   "execution_count": 49,
   "id": "8c639187-5511-4069-bafe-cbd08610ea30",
   "metadata": {},
   "outputs": [
    {
     "name": "stdout",
     "output_type": "stream",
     "text": [
      "Epoch   0 | Train Loss: 1.950 | Train Acc: 17.86% | Val Loss: 1.94 | Val Acc: 12.80%\n",
      "Epoch  20 | Train Loss: 0.097 | Train Acc: 100.00% | Val Loss: 1.47 | Val Acc: 54.40%\n",
      "Epoch  40 | Train Loss: 0.012 | Train Acc: 100.00% | Val Loss: 1.60 | Val Acc: 53.20%\n",
      "Epoch  60 | Train Loss: 0.007 | Train Acc: 100.00% | Val Loss: 1.62 | Val Acc: 50.20%\n",
      "Epoch  80 | Train Loss: 0.008 | Train Acc: 100.00% | Val Loss: 1.51 | Val Acc: 50.40%\n",
      "Epoch 100 | Train Loss: 0.009 | Train Acc: 100.00% | Val Loss: 1.45 | Val Acc: 53.20%\n"
     ]
    }
   ],
   "source": [
    "mlp.fit(dataset_CORA.data, epochs=100)"
   ]
  },
  {
   "cell_type": "code",
   "execution_count": 51,
   "id": "b6ede4fe-6aaa-4050-8c4b-4f568b65234f",
   "metadata": {},
   "outputs": [],
   "source": [
    "acc = mlp.test(dataset_CORA.data)"
   ]
  },
  {
   "cell_type": "code",
   "execution_count": 52,
   "id": "85419a36-c05b-418b-9b86-e50393256383",
   "metadata": {},
   "outputs": [
    {
     "name": "stdout",
     "output_type": "stream",
     "text": [
      "\n",
      "MLP test accuracy: 53.10%\n"
     ]
    }
   ],
   "source": [
    "print(f'\\nMLP test accuracy: {acc*100:.2f}%')"
   ]
  },
  {
   "cell_type": "markdown",
   "id": "92c9276a-d44c-4314-a382-ebc989a4077e",
   "metadata": {},
   "source": [
    "## FB Page-Page graph"
   ]
  },
  {
   "cell_type": "code",
   "execution_count": 53,
   "id": "c4acfd4d-981d-4361-a3e0-821eab8ab9b6",
   "metadata": {},
   "outputs": [],
   "source": [
    "mlp_fb = MLP(dataset_FBPP.num_features, 16, dataset_FBPP.num_classes)"
   ]
  },
  {
   "cell_type": "code",
   "execution_count": 61,
   "id": "b6faef8a-52d4-4130-bbdb-42b39ac2344e",
   "metadata": {},
   "outputs": [
    {
     "name": "stdout",
     "output_type": "stream",
     "text": [
      "Epoch   0 | Train Loss: 1.400 | Train Acc: 26.78% | Val Loss: 1.41 | Val Acc: 26.81%\n",
      "Epoch  20 | Train Loss: 0.658 | Train Acc: 73.81% | Val Loss: 0.66 | Val Acc: 72.79%\n",
      "Epoch  40 | Train Loss: 0.579 | Train Acc: 76.53% | Val Loss: 0.61 | Val Acc: 75.29%\n",
      "Epoch  60 | Train Loss: 0.549 | Train Acc: 78.32% | Val Loss: 0.60 | Val Acc: 76.19%\n",
      "Epoch  80 | Train Loss: 0.531 | Train Acc: 78.89% | Val Loss: 0.60 | Val Acc: 75.34%\n",
      "Epoch 100 | Train Loss: 0.519 | Train Acc: 79.47% | Val Loss: 0.60 | Val Acc: 75.24%\n"
     ]
    }
   ],
   "source": [
    "mlp_fb.fit(dataset_FBPP.data, epochs=100)"
   ]
  },
  {
   "cell_type": "code",
   "execution_count": null,
   "id": "de8dfd89-4df1-418c-9aca-e2cf65deb869",
   "metadata": {},
   "outputs": [],
   "source": [
    "acc = mlp_fb.test(dataset_FBPP.data)\n",
    "print(f'\\nGNN test accuracy: {acc*100:.2f}%')"
   ]
  },
  {
   "cell_type": "markdown",
   "id": "e43e1777-ad7b-499d-a72d-5574a7e7c405",
   "metadata": {},
   "source": [
    "## Vanilla GNN"
   ]
  },
  {
   "cell_type": "code",
   "execution_count": 62,
   "id": "f952f542-2032-4aa7-a172-018861735eca",
   "metadata": {},
   "outputs": [],
   "source": [
    "class VanillaGNNLayer(torch.nn.Module):\n",
    "    def __init__(self, dim_in, dim_out):\n",
    "        super().__init__()\n",
    "        self.linear = Linear(dim_in, dim_out, bias=False)\n",
    "\n",
    "    def forward(self, x, adjacency):\n",
    "        x = self.linear(x)\n",
    "        x = torch.sparse.mm(adjacency, x)\n",
    "        return x"
   ]
  },
  {
   "cell_type": "code",
   "execution_count": 77,
   "id": "afa63e09-31a9-44ac-8cbd-72be060e10fa",
   "metadata": {},
   "outputs": [
    {
     "data": {
      "text/plain": [
       "tensor([[1., 0., 0.,  ..., 0., 0., 0.],\n",
       "        [0., 1., 0.,  ..., 0., 0., 0.],\n",
       "        [0., 0., 1.,  ..., 0., 0., 0.],\n",
       "        ...,\n",
       "        [0., 0., 0.,  ..., 1., 0., 0.],\n",
       "        [0., 0., 0.,  ..., 0., 1., 0.],\n",
       "        [0., 0., 0.,  ..., 0., 0., 1.]])"
      ]
     },
     "execution_count": 77,
     "metadata": {},
     "output_type": "execute_result"
    }
   ],
   "source": [
    "from torch_geometric.utils import to_dense_adj\n",
    "\n",
    "adjacency_cora = to_dense_adj(dataset_CORA.data.edge_index)[0]\n",
    "adjacency_cora += torch.eye(len(adjacency_cora))\n",
    "adjacency_cora\n",
    "\n",
    "\n",
    "\n",
    "adjacency_fbpp = to_dense_adj(dataset_FBPP.data.edge_index)[0]\n",
    "adjacency_fbpp += torch.eye(len(adjacency_fbpp))\n",
    "adjacency_fbpp"
   ]
  },
  {
   "cell_type": "code",
   "execution_count": 78,
   "id": "1de1cd79-4712-45a6-9f24-518903c2da6a",
   "metadata": {},
   "outputs": [
    {
     "data": {
      "text/plain": [
       "(torch.Size([2708, 2708]), torch.Size([22470, 22470]))"
      ]
     },
     "execution_count": 78,
     "metadata": {},
     "output_type": "execute_result"
    }
   ],
   "source": [
    "adjacency_cora.shape, adjacency_fbpp.shape"
   ]
  },
  {
   "cell_type": "code",
   "execution_count": 79,
   "id": "0f08460f-39de-495d-ad72-d6db35e1c9a1",
   "metadata": {},
   "outputs": [],
   "source": [
    "del adjacency"
   ]
  },
  {
   "cell_type": "code",
   "execution_count": 80,
   "id": "ccb037ec-9a5e-4bb1-b8e9-9e829be2e339",
   "metadata": {},
   "outputs": [],
   "source": [
    "class VanillaGNN(torch.nn.Module):\n",
    "    \"\"\"Vanilla Graph Neural Network\"\"\"\n",
    "    def __init__(self, dim_in, dim_h, dim_out):\n",
    "        super().__init__()\n",
    "        self.gnn1 = VanillaGNNLayer(dim_in, dim_h)\n",
    "        self.gnn2 = VanillaGNNLayer(dim_h, dim_out)\n",
    "\n",
    "    def forward(self, x, adjacency):\n",
    "        h = self.gnn1(x, adjacency)\n",
    "        h = torch.relu(h)\n",
    "        h = self.gnn2(h, adjacency)\n",
    "        return F.log_softmax(h, dim=1)\n",
    "\n",
    "    def fit(self, data, epochs):\n",
    "        criterion = torch.nn.CrossEntropyLoss()\n",
    "        optimizer = torch.optim.Adam(self.parameters(),\n",
    "                                      lr=0.01,\n",
    "                                      weight_decay=5e-4)\n",
    "\n",
    "        self.train()\n",
    "        for epoch in range(epochs+1):\n",
    "            optimizer.zero_grad()\n",
    "            out = self(data.x, adjacency)\n",
    "            loss = criterion(out[data.train_mask], data.y[data.train_mask])\n",
    "            acc = accuracy(out[data.train_mask].argmax(dim=1),\n",
    "                          data.y[data.train_mask])\n",
    "            loss.backward()\n",
    "            optimizer.step()\n",
    "\n",
    "            if(epoch % 20 == 0):\n",
    "                val_loss = criterion(out[data.val_mask], data.y[data.val_mask])\n",
    "                val_acc = accuracy(out[data.val_mask].argmax(dim=1),\n",
    "                                  data.y[data.val_mask])\n",
    "                print(f'Epoch {epoch:>3} | Train Loss: {loss:.3f} | Train Acc:'\n",
    "                      f' {acc*100:>5.2f}% | Val Loss: {val_loss:.2f} | '\n",
    "                      f'Val Acc: {val_acc*100:.2f}%')\n",
    "\n",
    "    @torch.no_grad()\n",
    "    def test(self, data):\n",
    "        self.eval()\n",
    "        out = self(data.x, adjacency)\n",
    "        acc = accuracy(out.argmax(dim=1)[data.test_mask], data.y[data.test_mask])\n",
    "        return acc"
   ]
  },
  {
   "cell_type": "code",
   "execution_count": 83,
   "id": "2ff7dc47-de43-4e31-9fda-6638d6dfd347",
   "metadata": {},
   "outputs": [
    {
     "name": "stdout",
     "output_type": "stream",
     "text": [
      "VanillaGNN(\n",
      "  (gnn1): VanillaGNNLayer(\n",
      "    (linear): Linear(in_features=1433, out_features=16, bias=False)\n",
      "  )\n",
      "  (gnn2): VanillaGNNLayer(\n",
      "    (linear): Linear(in_features=16, out_features=7, bias=False)\n",
      "  )\n",
      ")\n"
     ]
    }
   ],
   "source": [
    "# Create the Vanilla GNN model\n",
    "\n",
    "adjacency = adjacency_cora\n",
    "gnn = VanillaGNN(dataset_CORA.num_features, 16, dataset_CORA.num_classes)\n",
    "print(gnn)"
   ]
  },
  {
   "cell_type": "code",
   "execution_count": 84,
   "id": "217573bc-9fea-43c7-a99d-0d225b4a578f",
   "metadata": {},
   "outputs": [
    {
     "name": "stdout",
     "output_type": "stream",
     "text": [
      "Epoch   0 | Train Loss: 2.357 | Train Acc: 22.14% | Val Loss: 2.27 | Val Acc: 17.40%\n",
      "Epoch  20 | Train Loss: 0.060 | Train Acc: 100.00% | Val Loss: 2.00 | Val Acc: 71.20%\n",
      "Epoch  40 | Train Loss: 0.006 | Train Acc: 100.00% | Val Loss: 2.61 | Val Acc: 73.20%\n",
      "Epoch  60 | Train Loss: 0.002 | Train Acc: 100.00% | Val Loss: 2.79 | Val Acc: 73.60%\n",
      "Epoch  80 | Train Loss: 0.002 | Train Acc: 100.00% | Val Loss: 2.76 | Val Acc: 74.20%\n",
      "Epoch 100 | Train Loss: 0.001 | Train Acc: 100.00% | Val Loss: 2.71 | Val Acc: 74.80%\n"
     ]
    }
   ],
   "source": [
    "# Train\n",
    "gnn.fit(dataset_CORA.data, epochs=100)"
   ]
  },
  {
   "cell_type": "code",
   "execution_count": 85,
   "id": "0ec878e1-3f01-40e8-a5a7-a49b935f2501",
   "metadata": {},
   "outputs": [
    {
     "name": "stdout",
     "output_type": "stream",
     "text": [
      "\n",
      "GNN test accuracy: 74.10%\n"
     ]
    }
   ],
   "source": [
    "# Test\n",
    "acc = gnn.test(dataset_CORA.data)\n",
    "print(f'\\nGNN test accuracy: {acc*100:.2f}%')"
   ]
  },
  {
   "cell_type": "markdown",
   "id": "0045428b-96c9-4a95-9544-cb27fa56f737",
   "metadata": {},
   "source": [
    "## GNN on FB"
   ]
  },
  {
   "cell_type": "code",
   "execution_count": 88,
   "id": "b48a17b6-5320-423c-bcda-407309e21adb",
   "metadata": {},
   "outputs": [],
   "source": [
    "adjacency=adjacency_fbpp\n",
    "gnn_fb = VanillaGNN(dataset_FBPP.num_features, 16, dataset_FBPP.num_classes)"
   ]
  },
  {
   "cell_type": "code",
   "execution_count": 89,
   "id": "cb24b768-8417-4387-9813-4f82a67071c2",
   "metadata": {},
   "outputs": [
    {
     "name": "stdout",
     "output_type": "stream",
     "text": [
      "VanillaGNN(\n",
      "  (gnn1): VanillaGNNLayer(\n",
      "    (linear): Linear(in_features=128, out_features=16, bias=False)\n",
      "  )\n",
      "  (gnn2): VanillaGNNLayer(\n",
      "    (linear): Linear(in_features=16, out_features=4, bias=False)\n",
      "  )\n",
      ")\n"
     ]
    }
   ],
   "source": [
    "print(gnn_fb)"
   ]
  },
  {
   "cell_type": "code",
   "execution_count": 90,
   "id": "f61f6a0b-8ba1-4a16-b44d-d62a35930c1f",
   "metadata": {},
   "outputs": [
    {
     "name": "stdout",
     "output_type": "stream",
     "text": [
      "Epoch   0 | Train Loss: 32.356 | Train Acc: 36.23% | Val Loss: 29.68 | Val Acc: 36.42%\n",
      "Epoch  20 | Train Loss: 3.962 | Train Acc: 81.55% | Val Loss: 2.56 | Val Acc: 82.59%\n",
      "Epoch  40 | Train Loss: 1.712 | Train Acc: 85.48% | Val Loss: 1.10 | Val Acc: 86.09%\n",
      "Epoch  60 | Train Loss: 0.788 | Train Acc: 84.09% | Val Loss: 0.66 | Val Acc: 84.49%\n",
      "Epoch  80 | Train Loss: 0.815 | Train Acc: 85.42% | Val Loss: 0.65 | Val Acc: 85.19%\n",
      "Epoch 100 | Train Loss: 1.175 | Train Acc: 85.94% | Val Loss: 0.87 | Val Acc: 85.14%\n"
     ]
    }
   ],
   "source": [
    "gnn_fb.fit(dataset_FBPP.data, epochs=100)"
   ]
  },
  {
   "cell_type": "code",
   "execution_count": 92,
   "id": "f9ebf348-0db5-4458-b11a-acce3dd2e2ef",
   "metadata": {},
   "outputs": [
    {
     "name": "stdout",
     "output_type": "stream",
     "text": [
      "\n",
      "GNN test accuracy: 85.66%\n"
     ]
    }
   ],
   "source": [
    "acc = gnn_fb.test(dataset_FBPP.data)\n",
    "print(f'\\nGNN test accuracy: {acc*100:.2f}%')"
   ]
  },
  {
   "cell_type": "code",
   "execution_count": null,
   "id": "ba91a8a3-9416-4ba9-80ca-77b5ed9c8213",
   "metadata": {},
   "outputs": [],
   "source": []
  }
 ],
 "metadata": {
  "kernelspec": {
   "display_name": "Python 3",
   "language": "python",
   "name": "python3"
  },
  "language_info": {
   "codemirror_mode": {
    "name": "ipython",
    "version": 3
   },
   "file_extension": ".py",
   "mimetype": "text/x-python",
   "name": "python",
   "nbconvert_exporter": "python",
   "pygments_lexer": "ipython3",
   "version": "3.9.15"
  }
 },
 "nbformat": 4,
 "nbformat_minor": 5
}
