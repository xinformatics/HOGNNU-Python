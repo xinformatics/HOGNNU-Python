{
 "cells": [
  {
   "cell_type": "markdown",
   "id": "1d1af8a0-3d9e-4844-a7ed-8a6b5cbea67e",
   "metadata": {},
   "source": [
    "## Graph Convolutional Networks"
   ]
  },
  {
   "cell_type": "code",
   "execution_count": null,
   "id": "538b7a9c-e8ec-4228-84a4-e7ceba9c32de",
   "metadata": {},
   "outputs": [],
   "source": []
  }
 ],
 "metadata": {
  "kernelspec": {
   "display_name": "Python 3",
   "language": "python",
   "name": "python3"
  },
  "language_info": {
   "codemirror_mode": {
    "name": "ipython",
    "version": 3
   },
   "file_extension": ".py",
   "mimetype": "text/x-python",
   "name": "python",
   "nbconvert_exporter": "python",
   "pygments_lexer": "ipython3",
   "version": "3.9.15"
  }
 },
 "nbformat": 4,
 "nbformat_minor": 5
}
