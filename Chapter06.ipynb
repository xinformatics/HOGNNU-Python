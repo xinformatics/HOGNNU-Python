{
 "cells": [
  {
   "cell_type": "markdown",
   "id": "1d1af8a0-3d9e-4844-a7ed-8a6b5cbea67e",
   "metadata": {},
   "source": [
    "## Chapter 6 Graph Convolutional Networks"
   ]
  },
  {
   "cell_type": "code",
   "execution_count": 2,
   "id": "538b7a9c-e8ec-4228-84a4-e7ceba9c32de",
   "metadata": {},
   "outputs": [],
   "source": [
    "import numpy as np"
   ]
  },
  {
   "cell_type": "code",
   "execution_count": 3,
   "id": "9a1e08cd-936d-437c-b5f7-dbefcf9c4692",
   "metadata": {},
   "outputs": [],
   "source": [
    "D = np.array([\n",
    "    [3,0,0,0],\n",
    "    [0,1,0,0],\n",
    "    [0,0,2,0],\n",
    "    [0,0,0,20]\n",
    "    ])"
   ]
  },
  {
   "cell_type": "code",
   "execution_count": 4,
   "id": "3264764c-2d5d-4405-bce5-4195924a4c40",
   "metadata": {},
   "outputs": [],
   "source": [
    "invD = np.linalg.inv(D)"
   ]
  },
  {
   "cell_type": "code",
   "execution_count": 5,
   "id": "809a0c15-f5de-4d7c-8a85-bc721e2c2323",
   "metadata": {},
   "outputs": [
    {
     "data": {
      "text/plain": [
       "array([[0.33333333, 0.        , 0.        , 0.        ],\n",
       "       [0.        , 1.        , 0.        , 0.        ],\n",
       "       [0.        , 0.        , 0.5       , 0.        ],\n",
       "       [0.        , 0.        , 0.        , 0.05      ]])"
      ]
     },
     "execution_count": 5,
     "metadata": {},
     "output_type": "execute_result"
    }
   ],
   "source": [
    "invD"
   ]
  },
  {
   "cell_type": "code",
   "execution_count": 6,
   "id": "cbca8cff-4f9f-4f34-ad3e-29e9b34ff18c",
   "metadata": {},
   "outputs": [],
   "source": [
    "invD_new = np.linalg.inv(D + np.identity(4))"
   ]
  },
  {
   "cell_type": "code",
   "execution_count": 7,
   "id": "0e616d5d-2afd-4d46-9f9d-a3f518f38b27",
   "metadata": {},
   "outputs": [
    {
     "data": {
      "text/plain": [
       "array([[0.25      , 0.        , 0.        , 0.        ],\n",
       "       [0.        , 0.5       , 0.        , 0.        ],\n",
       "       [0.        , 0.        , 0.33333333, 0.        ],\n",
       "       [0.        , 0.        , 0.        , 0.04761905]])"
      ]
     },
     "execution_count": 7,
     "metadata": {},
     "output_type": "execute_result"
    }
   ],
   "source": [
    "invD_new"
   ]
  },
  {
   "cell_type": "code",
   "execution_count": 8,
   "id": "9685091e-c897-4714-a237-f629773706c4",
   "metadata": {},
   "outputs": [
    {
     "name": "stdout",
     "output_type": "stream",
     "text": [
      "[[0.25       0.25       0.25       0.25      ]\n",
      " [0.5        0.5        0.         0.        ]\n",
      " [0.33333333 0.         0.33333333 0.33333333]\n",
      " [0.04761905 0.         0.04761905 0.04761905]]\n",
      "\n",
      "[[0.25       0.5        0.33333333 0.04761905]\n",
      " [0.25       0.5        0.         0.        ]\n",
      " [0.25       0.         0.33333333 0.04761905]\n",
      " [0.25       0.         0.33333333 0.04761905]]\n"
     ]
    }
   ],
   "source": [
    "A = np.array([\n",
    "    [1, 1, 1, 1],\n",
    "    [1, 1, 0, 0],\n",
    "    [1, 0, 1, 1],\n",
    "    [1, 0, 1, 1]\n",
    "])\n",
    "\n",
    "print(np.linalg.inv(D + np.identity(4)) @ A)\n",
    "print()\n",
    "print(A @ np.linalg.inv(D + np.identity(4)))"
   ]
  },
  {
   "cell_type": "code",
   "execution_count": 9,
   "id": "386bc3c2-8c4f-40a4-bb65-8166ab43d5b8",
   "metadata": {},
   "outputs": [],
   "source": [
    "from torch_geometric.datasets import Planetoid\n",
    "from torch_geometric.utils import degree\n",
    "from collections import Counter\n",
    "import matplotlib.pyplot as plt"
   ]
  },
  {
   "cell_type": "code",
   "execution_count": 17,
   "id": "4e94a38c-c28c-4c32-aa4d-73fac4367965",
   "metadata": {},
   "outputs": [
    {
     "data": {
      "text/plain": [
       "<BarContainer object of 37 artists>"
      ]
     },
     "execution_count": 17,
     "metadata": {},
     "output_type": "execute_result"
    },
    {
     "data": {
      "image/png": "[encoded data removed]",
      "text/plain": [
       "<Figure size 432x288 with 1 Axes>"
      ]
     },
     "metadata": {
      "needs_background": "light"
     },
     "output_type": "display_data"
    }
   ],
   "source": [
    "# Import dataset from PyTorch Geometric\n",
    "dataset = Planetoid(root=\".\", name=\"Cora\")\n",
    "data = dataset[0]\n",
    "degrees = degree(data.edge_index[0]).numpy()\n",
    "# degrees\n",
    "\n",
    "numbers = Counter(degrees)\n",
    "\n",
    "fig, ax = plt.subplots()\n",
    "ax.set_xlabel('Node Degree')\n",
    "ax.set_ylabel('Number of nodes')\n",
    "\n",
    "plt.bar(numbers.keys(), numbers.values())"
   ]
  },
  {
   "cell_type": "code",
   "execution_count": 18,
   "id": "5d7810e5-9fbf-4d87-b13d-7831b71b9a8a",
   "metadata": {},
   "outputs": [],
   "source": [
    "#### FB Page-Page dataset"
   ]
  },
  {
   "cell_type": "code",
   "execution_count": 19,
   "id": "2e7cae5b-ce70-4a87-8c10-2d6cd00b7b26",
   "metadata": {},
   "outputs": [
    {
     "name": "stderr",
     "output_type": "stream",
     "text": [
      "Downloading https://graphmining.ai/datasets/ptg/facebook.npz\n",
      "Processing...\n",
      "Done!\n"
     ]
    },
    {
     "data": {
      "text/plain": [
       "<BarContainer object of 233 artists>"
      ]
     },
     "execution_count": 19,
     "metadata": {},
     "output_type": "execute_result"
    },
    {
     "data": {
      "image/png": "[encoded data removed]",
      "text/plain": [
       "<Figure size 432x288 with 1 Axes>"
      ]
     },
     "metadata": {
      "needs_background": "light"
     },
     "output_type": "display_data"
    }
   ],
   "source": [
    "from torch_geometric.datasets import FacebookPagePage\n",
    "\n",
    "# Import dataset from PyTorch Geometric\n",
    "dataset = FacebookPagePage(root=\".\")\n",
    "data = dataset[0]\n",
    "\n",
    "# Create masks\n",
    "data.train_mask = range(18000)\n",
    "data.val_mask = range(18001, 20000)\n",
    "data.test_mask = range(20001, 22470)\n",
    "\n",
    "# Get list of degrees for each node\n",
    "degrees = degree(data.edge_index[0]).numpy()\n",
    "\n",
    "# Count the number of nodes for each degree\n",
    "numbers = Counter(degrees)\n",
    "\n",
    "# Bar plot\n",
    "fig, ax = plt.subplots()\n",
    "ax.set_xlabel('Node degree')\n",
    "ax.set_ylabel('Number of nodes')\n",
    "plt.bar(numbers.keys(), numbers.values())"
   ]
  },
  {
   "cell_type": "code",
   "execution_count": 21,
   "id": "abd37f27-b64d-474b-a086-e0d5fd6a7cda",
   "metadata": {},
   "outputs": [
    {
     "data": {
      "text/plain": [
       "709.0"
      ]
     },
     "execution_count": 21,
     "metadata": {},
     "output_type": "execute_result"
    }
   ],
   "source": [
    "max(degrees)"
   ]
  },
  {
   "cell_type": "markdown",
   "id": "ccf3b1ed-8b60-4072-826d-74cca9270ef8",
   "metadata": {},
   "source": [
    "## thats why we need to normalize it because there is a lot of heterogeneity in degree distribution"
   ]
  },
  {
   "cell_type": "markdown",
   "id": "c69435b8-1577-4f12-b717-fcba3e926ad7",
   "metadata": {},
   "source": [
    "## Pytorch GCN on Cora"
   ]
  },
  {
   "cell_type": "code",
   "execution_count": 22,
   "id": "862a6ce3-3f6b-4db4-abcd-aa5b0daa2c41",
   "metadata": {},
   "outputs": [],
   "source": [
    "import torch\n",
    "import torch.nn.functional as F\n",
    "\n",
    "from torch_geometric.nn import GCNConv"
   ]
  },
  {
   "cell_type": "code",
   "execution_count": 23,
   "id": "0394d1d3-1fe5-423e-b099-766be26ab7b9",
   "metadata": {},
   "outputs": [],
   "source": [
    "def accuracy(pred_y, y):\n",
    "    return ((pred_y == y).sum() / len(y)).item()"
   ]
  },
  {
   "cell_type": "code",
   "execution_count": null,
   "id": "4d036c1d-16a3-4387-b2d2-87f0b368f94b",
   "metadata": {},
   "outputs": [],
   "source": [
    "class GCN(torch.nn.Module):\n",
    "    \"\"\"GCN\"\"\"\n",
    "    def __init__(self, dim_in, dim_h, dim_out):\n",
    "        super().__init()\n",
    "        self.gcn1 = GCNConv(dim_in, dim_h)\n",
    "        self.gcn2 = GCNConv(dim_h, dim_out)\n",
    "        \n",
    "    def forward(self, x, edge_index):\n",
    "        h = self.gcn1(x,edge_index)"
   ]
  }
 ],
 "metadata": {
  "kernelspec": {
   "display_name": "Python 3",
   "language": "python",
   "name": "python3"
  },
  "language_info": {
   "codemirror_mode": {
    "name": "ipython",
    "version": 3
   },
   "file_extension": ".py",
   "mimetype": "text/x-python",
   "name": "python",
   "nbconvert_exporter": "python",
   "pygments_lexer": "ipython3",
   "version": "3.9.15"
  }
 },
 "nbformat": 4,
 "nbformat_minor": 5
}
