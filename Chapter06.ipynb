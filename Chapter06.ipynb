{
 "cells": [
  {
   "cell_type": "markdown",
   "id": "1d1af8a0-3d9e-4844-a7ed-8a6b5cbea67e",
   "metadata": {},
   "source": [
    "## Chapter 6 Graph Convolutional Networks"
   ]
  },
  {
   "cell_type": "code",
   "execution_count": 13,
   "id": "538b7a9c-e8ec-4228-84a4-e7ceba9c32de",
   "metadata": {},
   "outputs": [],
   "source": [
    "import numpy as np"
   ]
  },
  {
   "cell_type": "code",
   "execution_count": 3,
   "id": "9a1e08cd-936d-437c-b5f7-dbefcf9c4692",
   "metadata": {},
   "outputs": [],
   "source": [
    "D = np.array([\n",
    "    [3,0,0,0],\n",
    "    [0,1,0,0],\n",
    "    [0,0,2,0],\n",
    "    [0,0,0,20]\n",
    "    ])"
   ]
  },
  {
   "cell_type": "code",
   "execution_count": 4,
   "id": "3264764c-2d5d-4405-bce5-4195924a4c40",
   "metadata": {},
   "outputs": [],
   "source": [
    "invD = np.linalg.inv(D)"
   ]
  },
  {
   "cell_type": "code",
   "execution_count": 5,
   "id": "809a0c15-f5de-4d7c-8a85-bc721e2c2323",
   "metadata": {},
   "outputs": [
    {
     "data": {
      "text/plain": [
       "array([[0.33333333, 0.        , 0.        , 0.        ],\n",
       "       [0.        , 1.        , 0.        , 0.        ],\n",
       "       [0.        , 0.        , 0.5       , 0.        ],\n",
       "       [0.        , 0.        , 0.        , 0.05      ]])"
      ]
     },
     "execution_count": 5,
     "metadata": {},
     "output_type": "execute_result"
    }
   ],
   "source": [
    "invD"
   ]
  },
  {
   "cell_type": "code",
   "execution_count": 6,
   "id": "cbca8cff-4f9f-4f34-ad3e-29e9b34ff18c",
   "metadata": {},
   "outputs": [],
   "source": [
    "invD_new = np.linalg.inv(D + np.identity(4))"
   ]
  },
  {
   "cell_type": "code",
   "execution_count": 7,
   "id": "0e616d5d-2afd-4d46-9f9d-a3f518f38b27",
   "metadata": {},
   "outputs": [
    {
     "data": {
      "text/plain": [
       "array([[0.25      , 0.        , 0.        , 0.        ],\n",
       "       [0.        , 0.5       , 0.        , 0.        ],\n",
       "       [0.        , 0.        , 0.33333333, 0.        ],\n",
       "       [0.        , 0.        , 0.        , 0.04761905]])"
      ]
     },
     "execution_count": 7,
     "metadata": {},
     "output_type": "execute_result"
    }
   ],
   "source": [
    "invD_new"
   ]
  },
  {
   "cell_type": "code",
   "execution_count": 8,
   "id": "9685091e-c897-4714-a237-f629773706c4",
   "metadata": {},
   "outputs": [
    {
     "name": "stdout",
     "output_type": "stream",
     "text": [
      "[[0.25       0.25       0.25       0.25      ]\n",
      " [0.5        0.5        0.         0.        ]\n",
      " [0.33333333 0.         0.33333333 0.33333333]\n",
      " [0.04761905 0.         0.04761905 0.04761905]]\n",
      "\n",
      "[[0.25       0.5        0.33333333 0.04761905]\n",
      " [0.25       0.5        0.         0.        ]\n",
      " [0.25       0.         0.33333333 0.04761905]\n",
      " [0.25       0.         0.33333333 0.04761905]]\n"
     ]
    }
   ],
   "source": [
    "A = np.array([\n",
    "    [1, 1, 1, 1],\n",
    "    [1, 1, 0, 0],\n",
    "    [1, 0, 1, 1],\n",
    "    [1, 0, 1, 1]\n",
    "])\n",
    "\n",
    "print(np.linalg.inv(D + np.identity(4)) @ A)\n",
    "print()\n",
    "print(A @ np.linalg.inv(D + np.identity(4)))"
   ]
  },
  {
   "cell_type": "code",
   "execution_count": 16,
   "id": "386bc3c2-8c4f-40a4-bb65-8166ab43d5b8",
   "metadata": {},
   "outputs": [],
   "source": [
    "from torch_geometric.datasets import Planetoid\n",
    "from torch_geometric.utils import degree\n",
    "from collections import Counter\n",
    "import matplotlib.pyplot as plt"
   ]
  },
  {
   "cell_type": "code",
   "execution_count": 9,
   "id": "4e94a38c-c28c-4c32-aa4d-73fac4367965",
   "metadata": {},
   "outputs": [
    {
     "data": {
      "image/png": "[encoded data removed]",
      "text/plain": [
       "<Figure size 432x288 with 1 Axes>"
      ]
     },
     "metadata": {
      "needs_background": "light"
     },
     "output_type": "display_data"
    }
   ],
   "source": [
    "# Import dataset from PyTorch Geometric\n",
    "dataset = Planetoid(root=\".\", name=\"Cora\")\n",
    "data = dataset[0]\n",
    "degrees = degree(data.edge_index[0]).numpy()\n",
    "# degrees\n",
    "\n",
    "numbers = Counter(degrees)\n",
    "\n",
    "fig, ax = plt.subplots()\n",
    "ax.set_xlabel('Node Degree')\n",
    "ax.set_ylabel('Number of nodes')\n",
    "\n",
    "plt.bar(numbers.keys(), numbers.values())\n",
    "plt.show()"
   ]
  },
  {
   "cell_type": "code",
   "execution_count": 18,
   "id": "5d7810e5-9fbf-4d87-b13d-7831b71b9a8a",
   "metadata": {},
   "outputs": [],
   "source": [
    "#### FB Page-Page dataset"
   ]
  },
  {
   "cell_type": "code",
   "execution_count": 14,
   "id": "2e7cae5b-ce70-4a87-8c10-2d6cd00b7b26",
   "metadata": {},
   "outputs": [
    {
     "data": {
      "image/png": "[encoded data removed]",
      "text/plain": [
       "<Figure size 432x288 with 1 Axes>"
      ]
     },
     "metadata": {
      "needs_background": "light"
     },
     "output_type": "display_data"
    }
   ],
   "source": [
    "from torch_geometric.datasets import FacebookPagePage\n",
    "\n",
    "# Import dataset from PyTorch Geometric\n",
    "dataset = FacebookPagePage(root=\".\")\n",
    "data = dataset[0]\n",
    "\n",
    "# Create masks\n",
    "data.train_mask = range(18000)\n",
    "data.val_mask = range(18001, 20000)\n",
    "data.test_mask = range(20001, 22470)\n",
    "\n",
    "# Get list of degrees for each node\n",
    "degrees = degree(data.edge_index[0]).numpy()\n",
    "\n",
    "# Count the number of nodes for each degree\n",
    "numbers = Counter(degrees)\n",
    "\n",
    "# Bar plot\n",
    "fig, ax = plt.subplots()\n",
    "ax.set_xlabel('Node degree')\n",
    "ax.set_ylabel('Number of nodes')\n",
    "plt.bar(numbers.keys(), numbers.values())\n",
    "plt.show()"
   ]
  },
  {
   "cell_type": "code",
   "execution_count": 21,
   "id": "abd37f27-b64d-474b-a086-e0d5fd6a7cda",
   "metadata": {},
   "outputs": [
    {
     "data": {
      "text/plain": [
       "709.0"
      ]
     },
     "execution_count": 21,
     "metadata": {},
     "output_type": "execute_result"
    }
   ],
   "source": [
    "max(degrees)"
   ]
  },
  {
   "cell_type": "markdown",
   "id": "ccf3b1ed-8b60-4072-826d-74cca9270ef8",
   "metadata": {},
   "source": [
    "## thats why we need to normalize it because there is a lot of heterogeneity in degree distribution"
   ]
  },
  {
   "cell_type": "markdown",
   "id": "c69435b8-1577-4f12-b717-fcba3e926ad7",
   "metadata": {},
   "source": [
    "## Pytorch GCN on Cora"
   ]
  },
  {
   "cell_type": "code",
   "execution_count": 36,
   "id": "862a6ce3-3f6b-4db4-abcd-aa5b0daa2c41",
   "metadata": {},
   "outputs": [],
   "source": [
    "import torch\n",
    "import torch.nn.functional as F\n",
    "\n",
    "from torch_geometric.nn import GCNConv"
   ]
  },
  {
   "cell_type": "code",
   "execution_count": 11,
   "id": "0394d1d3-1fe5-423e-b099-766be26ab7b9",
   "metadata": {},
   "outputs": [],
   "source": [
    "def accuracy(pred_y, y):\n",
    "    return ((pred_y == y).sum() / len(y)).item()"
   ]
  },
  {
   "cell_type": "code",
   "execution_count": 12,
   "id": "4d036c1d-16a3-4387-b2d2-87f0b368f94b",
   "metadata": {},
   "outputs": [],
   "source": [
    "class GCN(torch.nn.Module):\n",
    "    \"\"\"GCN\"\"\"\n",
    "    def __init__(self, dim_in, dim_h, dim_out):\n",
    "        super().__init__()\n",
    "        self.gcn1 = GCNConv(dim_in, dim_h)\n",
    "        self.gcn2 = GCNConv(dim_h, dim_out)\n",
    "        \n",
    "    def forward(self, x, edge_index):\n",
    "        h = self.gcn1(x,edge_index)\n",
    "        h = torch.relu(h)\n",
    "        h = self.gcn2(h, edge_index)\n",
    "        \n",
    "        return F.log_softmax(h, dim=1)\n",
    "\n",
    "    def fit(self, data, epochs):\n",
    "        criterion = torch.nn.CrossEntropyLoss()\n",
    "        optimizer = torch.optim.Adam(self.parameters(),\n",
    "                                      lr=0.01,\n",
    "                                      weight_decay=5e-4)\n",
    "\n",
    "        self.train()\n",
    "        for epoch in range(epochs+1):\n",
    "            optimizer.zero_grad()\n",
    "            out = self(data.x, data.edge_index)\n",
    "            loss = criterion(out[data.train_mask], data.y[data.train_mask])\n",
    "            acc = accuracy(out[data.train_mask].argmax(dim=1),data.y[data.train_mask])\n",
    "            loss.backward()\n",
    "            optimizer.step()\n",
    "\n",
    "            if(epoch % 20 == 0):\n",
    "                val_loss = criterion(out[data.val_mask], data.y[data.val_mask])\n",
    "                val_acc = accuracy(out[data.val_mask].argmax(dim=1),\n",
    "                                  data.y[data.val_mask])\n",
    "                print(f'Epoch {epoch:>3} | Train Loss: {loss:.3f} | Train Acc:'f' {acc*100:>5.2f}% | Val Loss: {val_loss:.2f} | 'f'Val Acc: {val_acc*100:.2f}%')\n",
    "\n",
    "    @torch.no_grad()\n",
    "    def test(self, data):\n",
    "        self.eval()\n",
    "        out = self(data.x, data.edge_index)\n",
    "        acc = accuracy(out.argmax(dim=1)[data.test_mask], data.y[data.test_mask])\n",
    "        return acc"
   ]
  },
  {
   "cell_type": "code",
   "execution_count": 13,
   "id": "ecb2eeb9-21ac-49ea-b1b1-db797b92628f",
   "metadata": {},
   "outputs": [
    {
     "name": "stdout",
     "output_type": "stream",
     "text": [
      "GCN(\n",
      "  (gcn1): GCNConv(1433, 16)\n",
      "  (gcn2): GCNConv(16, 7)\n",
      ")\n",
      "Epoch   0 | Train Loss: 1.941 | Train Acc: 14.29% | Val Loss: 1.94 | Val Acc: 14.80%\n",
      "Epoch  20 | Train Loss: 0.226 | Train Acc: 99.29% | Val Loss: 0.86 | Val Acc: 76.40%\n",
      "Epoch  40 | Train Loss: 0.021 | Train Acc: 100.00% | Val Loss: 0.74 | Val Acc: 78.20%\n",
      "Epoch  60 | Train Loss: 0.016 | Train Acc: 100.00% | Val Loss: 0.73 | Val Acc: 78.40%\n",
      "Epoch  80 | Train Loss: 0.018 | Train Acc: 100.00% | Val Loss: 0.71 | Val Acc: 78.00%\n",
      "Epoch 100 | Train Loss: 0.017 | Train Acc: 100.00% | Val Loss: 0.71 | Val Acc: 78.20%\n",
      "\n",
      "GCN test accuracy: 81.10%\n",
      "\n"
     ]
    }
   ],
   "source": [
    "# Create the Vanilla GNN model on Cora\n",
    "gcn = GCN(dataset.num_features, 16, dataset.num_classes)\n",
    "print(gcn)\n",
    "\n",
    "# Train\n",
    "gcn.fit(data, epochs=100)\n",
    "\n",
    "# Test\n",
    "acc = gcn.test(data)\n",
    "print(f'\\nGCN test accuracy: {acc*100:.2f}%\\n')"
   ]
  },
  {
   "cell_type": "markdown",
   "id": "ddad457f-8265-40cb-8b55-0d505ecbf176",
   "metadata": {},
   "source": [
    "## Create the Vanilla GNN model on FB Page-Page - I have changed the dataset and data variable by running one cell above"
   ]
  },
  {
   "cell_type": "code",
   "execution_count": 15,
   "id": "8ae146cd-6039-4aae-968c-aa982eddd70e",
   "metadata": {},
   "outputs": [
    {
     "name": "stdout",
     "output_type": "stream",
     "text": [
      "GCN(\n",
      "  (gcn1): GCNConv(128, 16)\n",
      "  (gcn2): GCNConv(16, 4)\n",
      ")\n",
      "Epoch   0 | Train Loss: 1.372 | Train Acc: 30.61% | Val Loss: 1.37 | Val Acc: 31.27%\n",
      "Epoch  20 | Train Loss: 0.431 | Train Acc: 85.91% | Val Loss: 0.43 | Val Acc: 85.54%\n",
      "Epoch  40 | Train Loss: 0.315 | Train Acc: 89.84% | Val Loss: 0.31 | Val Acc: 90.70%\n",
      "Epoch  60 | Train Loss: 0.273 | Train Acc: 91.50% | Val Loss: 0.28 | Val Acc: 91.75%\n",
      "Epoch  80 | Train Loss: 0.252 | Train Acc: 92.41% | Val Loss: 0.26 | Val Acc: 92.50%\n",
      "Epoch 100 | Train Loss: 0.237 | Train Acc: 92.91% | Val Loss: 0.24 | Val Acc: 93.15%\n",
      "\n",
      "GCN test accuracy: 91.94%\n",
      "\n"
     ]
    }
   ],
   "source": [
    "gcn = GCN(dataset.num_features, 16, dataset.num_classes)\n",
    "print(gcn)\n",
    "\n",
    "# Train\n",
    "gcn.fit(data, epochs=100)\n",
    "\n",
    "# Test\n",
    "acc = gcn.test(data)\n",
    "print(f'\\nGCN test accuracy: {acc*100:.2f}%\\n')"
   ]
  },
  {
   "cell_type": "markdown",
   "id": "ce4176b7-b2e1-4e25-b135-084b686b579c",
   "metadata": {},
   "source": [
    "## Node Regression"
   ]
  },
  {
   "cell_type": "code",
   "execution_count": 1,
   "id": "401e1a19-e0f5-474d-bbb3-72168e6b0ff8",
   "metadata": {},
   "outputs": [],
   "source": [
    "from torch_geometric.datasets import WikipediaNetwork\n",
    "import torch_geometric.transforms as T"
   ]
  },
  {
   "cell_type": "code",
   "execution_count": 6,
   "id": "f0786557-2771-40a0-9cdd-b7ec871d9f2f",
   "metadata": {},
   "outputs": [
    {
     "name": "stderr",
     "output_type": "stream",
     "text": [
      "Downloading https://raw.githubusercontent.com/graphdml-uiuc-jlu/geom-gcn/f1fc0d14b3b019c562737240d06ec83b07d16a8f/new_data/chameleon/out1_node_feature_label.txt\n",
      "Downloading https://raw.githubusercontent.com/graphdml-uiuc-jlu/geom-gcn/f1fc0d14b3b019c562737240d06ec83b07d16a8f/new_data/chameleon/out1_graph_edges.txt\n",
      "Downloading https://raw.githubusercontent.com/graphdml-uiuc-jlu/geom-gcn/f1fc0d14b3b019c562737240d06ec83b07d16a8f/splits/chameleon_split_0.6_0.2_0.npz\n",
      "Downloading https://raw.githubusercontent.com/graphdml-uiuc-jlu/geom-gcn/f1fc0d14b3b019c562737240d06ec83b07d16a8f/splits/chameleon_split_0.6_0.2_1.npz\n",
      "Downloading https://raw.githubusercontent.com/graphdml-uiuc-jlu/geom-gcn/f1fc0d14b3b019c562737240d06ec83b07d16a8f/splits/chameleon_split_0.6_0.2_2.npz\n",
      "Downloading https://raw.githubusercontent.com/graphdml-uiuc-jlu/geom-gcn/f1fc0d14b3b019c562737240d06ec83b07d16a8f/splits/chameleon_split_0.6_0.2_3.npz\n",
      "Downloading https://raw.githubusercontent.com/graphdml-uiuc-jlu/geom-gcn/f1fc0d14b3b019c562737240d06ec83b07d16a8f/splits/chameleon_split_0.6_0.2_4.npz\n",
      "Downloading https://raw.githubusercontent.com/graphdml-uiuc-jlu/geom-gcn/f1fc0d14b3b019c562737240d06ec83b07d16a8f/splits/chameleon_split_0.6_0.2_5.npz\n",
      "Downloading https://raw.githubusercontent.com/graphdml-uiuc-jlu/geom-gcn/f1fc0d14b3b019c562737240d06ec83b07d16a8f/splits/chameleon_split_0.6_0.2_6.npz\n",
      "Downloading https://raw.githubusercontent.com/graphdml-uiuc-jlu/geom-gcn/f1fc0d14b3b019c562737240d06ec83b07d16a8f/splits/chameleon_split_0.6_0.2_7.npz\n",
      "Downloading https://raw.githubusercontent.com/graphdml-uiuc-jlu/geom-gcn/f1fc0d14b3b019c562737240d06ec83b07d16a8f/splits/chameleon_split_0.6_0.2_8.npz\n",
      "Downloading https://raw.githubusercontent.com/graphdml-uiuc-jlu/geom-gcn/f1fc0d14b3b019c562737240d06ec83b07d16a8f/splits/chameleon_split_0.6_0.2_9.npz\n",
      "Processing...\n",
      "Done!\n"
     ]
    }
   ],
   "source": [
    "dataset = WikipediaNetwork(root=\".\", name=\"chameleon\", transform = T.RandomNodeSplit(num_val=200, num_test=500))\n",
    "\n",
    "# dataset = WikipediaNetwork(root=\".\", name=\"chameleon\")"
   ]
  },
  {
   "cell_type": "code",
   "execution_count": 9,
   "id": "4c3c3bd2-7d83-44fc-b2bd-76158b56d37c",
   "metadata": {},
   "outputs": [],
   "source": [
    "data = dataset[0]"
   ]
  },
  {
   "cell_type": "code",
   "execution_count": 10,
   "id": "98ae3d49-565d-4033-9df7-ad79b7c6ca8e",
   "metadata": {},
   "outputs": [
    {
     "name": "stdout",
     "output_type": "stream",
     "text": [
      "Dataset: WikipediaNetwork()\n",
      "-------------------\n",
      "Number of graphs: 1\n",
      "Number of nodes: 2277\n",
      "Number of unique features: 2325\n",
      "Number of classes: 5\n",
      "\n",
      "Graph:\n",
      "------\n",
      "Edges are directed: True\n",
      "Graph has isolated nodes: False\n",
      "Graph has loops: True\n"
     ]
    }
   ],
   "source": [
    "# Print information about the dataset\n",
    "print(f'Dataset: {dataset}')\n",
    "print('-------------------')\n",
    "print(f'Number of graphs: {len(dataset)}')\n",
    "print(f'Number of nodes: {data.x.shape[0]}')\n",
    "print(f'Number of unique features: {dataset.num_features}')\n",
    "print(f'Number of classes: {dataset.num_classes}')\n",
    "\n",
    "# Print information about the graph\n",
    "print(f'\\nGraph:')\n",
    "print('------')\n",
    "print(f'Edges are directed: {data.is_directed()}')\n",
    "print(f'Graph has isolated nodes: {data.has_isolated_nodes()}')\n",
    "print(f'Graph has loops: {data.has_self_loops()}')"
   ]
  },
  {
   "cell_type": "code",
   "execution_count": 11,
   "id": "84e2821f-0499-44d2-af34-b2b643ae9b71",
   "metadata": {},
   "outputs": [],
   "source": [
    "### get regression values\n",
    "\n",
    "from io import BytesIO\n",
    "from urllib.request import urlopen\n",
    "from zipfile import ZipFile\n",
    "\n",
    "url = 'https://snap.stanford.edu/data/wikipedia.zip'\n",
    "with urlopen(url) as zurl:\n",
    "    with ZipFile(BytesIO(zurl.read())) as zfile:\n",
    "        zfile.extractall('.')"
   ]
  },
  {
   "cell_type": "code",
   "execution_count": 18,
   "id": "4b78630b-a59e-4846-a314-403ca9c466b0",
   "metadata": {},
   "outputs": [
    {
     "data": {
      "text/plain": [
       "tensor([2.2330, 3.9079, 3.9329,  ..., 1.9956, 4.3598, 2.4409],\n",
       "       dtype=torch.float64)"
      ]
     },
     "execution_count": 18,
     "metadata": {},
     "output_type": "execute_result"
    }
   ],
   "source": [
    "import pandas as pd\n",
    "import torch\n",
    "df = pd.read_csv('wikipedia/chameleon/musae_chameleon_target.csv')\n",
    "values = np.log10(df['target'])\n",
    "data.y = torch.tensor(values)\n",
    "data.y"
   ]
  },
  {
   "cell_type": "code",
   "execution_count": 19,
   "id": "8c4aa7ab-7fb1-4da3-8cdf-e8bb133b3e15",
   "metadata": {},
   "outputs": [
    {
     "data": {
      "image/png": "[encoded data removed]",
      "text/plain": [
       "<Figure size 432x288 with 1 Axes>"
      ]
     },
     "metadata": {
      "needs_background": "light"
     },
     "output_type": "display_data"
    }
   ],
   "source": [
    "from torch_geometric.utils import degree\n",
    "from collections import Counter\n",
    "\n",
    "# Get list of degrees for each node\n",
    "degrees = degree(data.edge_index[0]).numpy()\n",
    "\n",
    "# Count the number of nodes for each degree\n",
    "numbers = Counter(degrees)\n",
    "\n",
    "# Bar plot\n",
    "fig, ax = plt.subplots()\n",
    "ax.set_xlabel('Node degree')\n",
    "ax.set_ylabel('Number of nodes')\n",
    "plt.bar(numbers.keys(), numbers.values())\n",
    "plt.show()"
   ]
  },
  {
   "cell_type": "markdown",
   "id": "a55f78d9-af6a-428e-95e3-908049d089c4",
   "metadata": {},
   "source": [
    "### checking the distribution of our regression varianle"
   ]
  },
  {
   "cell_type": "code",
   "execution_count": 34,
   "id": "29c17359-8399-457d-83a3-378d1cd10b7b",
   "metadata": {},
   "outputs": [
    {
     "data": {
      "image/png": "[encoded data removed]",
      "text/plain": [
       "<Figure size 360x360 with 1 Axes>"
      ]
     },
     "metadata": {
      "needs_background": "light"
     },
     "output_type": "display_data"
    }
   ],
   "source": [
    "import seaborn as sns\n",
    "from scipy.stats import norm\n",
    "df['target'] = values\n",
    "sns.displot(df['target'], bins=20, kde=True,stat=\"probability\",)\n",
    "plt.show()"
   ]
  },
  {
   "cell_type": "markdown",
   "id": "00582ef9-c2dc-4c71-85e1-b25476972b39",
   "metadata": {},
   "source": [
    "## GCN for node regression"
   ]
  },
  {
   "cell_type": "code",
   "execution_count": 46,
   "id": "d927ee2d-cc7f-45e6-94bd-896bfe10790b",
   "metadata": {},
   "outputs": [],
   "source": [
    "class GCN(torch.nn.Module):\n",
    "    def __init__(self, dim_in, dim_h, dim_out):\n",
    "        super().__init__()\n",
    "        self.gcn1 = GCNConv(dim_in, dim_h*4)\n",
    "        self.gcn2 = GCNConv(dim_h*4, dim_h*2)\n",
    "        self.gcn3 = GCNConv(dim_h*2, dim_h)\n",
    "        self.linear = torch.nn.Linear(dim_h, dim_out)\n",
    "\n",
    "    def forward(self, x, edge_index):\n",
    "        h = self.gcn1(x, edge_index)\n",
    "        h = torch.relu(h)\n",
    "        h = F.dropout(h, p=0.5, training=self.training)\n",
    "        h = self.gcn2(h, edge_index)\n",
    "        h = torch.relu(h)\n",
    "        h = F.dropout(h, p=0.5, training=self.training)\n",
    "        h = self.gcn3(h, edge_index)\n",
    "        h = torch.relu(h)\n",
    "        h = self.linear(h)\n",
    "        return h\n",
    "\n",
    "    def fit(self, data, epochs): \n",
    "        optimizer = torch.optim.Adam(self.parameters(),lr=0.02,weight_decay=5e-4)\n",
    "\n",
    "        self.train()\n",
    "        for epoch in range(epochs+1):\n",
    "            optimizer.zero_grad()\n",
    "            out = self(data.x, data.edge_index)\n",
    "            loss = F.mse_loss(out.squeeze()[data.train_mask], data.y[data.train_mask].float())\n",
    "            loss.backward()\n",
    "            optimizer.step()\n",
    "            if epoch % 20 == 0:\n",
    "                val_loss = F.mse_loss(out.squeeze()[data.val_mask], data.y[data.val_mask])\n",
    "                print(f\"Epoch {epoch:>3} | Train Loss: {loss:.5f} | Val Loss: {val_loss:.5f}\")\n",
    "\n",
    "    def test(self, data):\n",
    "        self.eval()\n",
    "        out = self(data.x, data.edge_index)\n",
    "        return F.mse_loss(out.squeeze()[data.test_mask], data.y[data.test_mask].float())"
   ]
  },
  {
   "cell_type": "code",
   "execution_count": 56,
   "id": "6a33885e-9cca-45ee-912c-218c824d86cd",
   "metadata": {},
   "outputs": [
    {
     "name": "stdout",
     "output_type": "stream",
     "text": [
      "GCN(\n",
      "  (gcn1): GCNConv(2325, 4096)\n",
      "  (gcn2): GCNConv(4096, 2048)\n",
      "  (gcn3): GCNConv(2048, 1024)\n",
      "  (linear): Linear(in_features=1024, out_features=1, bias=True)\n",
      ")\n",
      "Epoch   0 | Train Loss: 11.45721 | Val Loss: 11.77401\n",
      "Epoch  20 | Train Loss: 10.17486 | Val Loss: 10.53832\n",
      "Epoch  40 | Train Loss: 0.83108 | Val Loss: 1.51339\n",
      "Epoch  60 | Train Loss: 0.99961 | Val Loss: 1.01866\n",
      "Epoch  80 | Train Loss: 1.78154 | Val Loss: 0.92114\n",
      "Epoch 100 | Train Loss: 0.72245 | Val Loss: 0.86783\n",
      "Epoch 120 | Train Loss: 0.89123 | Val Loss: 1.03712\n",
      "Epoch 140 | Train Loss: 0.54761 | Val Loss: 0.88944\n",
      "Epoch 160 | Train Loss: 0.52649 | Val Loss: 0.69539\n",
      "Epoch 180 | Train Loss: 0.36809 | Val Loss: 0.60510\n",
      "Epoch 200 | Train Loss: 0.48175 | Val Loss: 0.88214\n",
      "\n",
      "GCN test loss: 0.60333\n",
      "\n"
     ]
    }
   ],
   "source": [
    "# Create the Vanilla GNN model\n",
    "gcn = GCN(dataset.num_features, 1024, 1)\n",
    "print(gcn) \n",
    "\n",
    "# Train\n",
    "gcn.fit(data, epochs=200)\n",
    "\n",
    "# Test\n",
    "loss = gcn.test(data)\n",
    "print(f'\\nGCN test loss: {loss:.5f}\\n')"
   ]
  },
  {
   "cell_type": "code",
   "execution_count": 48,
   "id": "7fb4d91a-1a8c-49f9-893d-2d5b44797711",
   "metadata": {},
   "outputs": [],
   "source": [
    "from sklearn.metrics import mean_squared_error, mean_absolute_error\n",
    "\n",
    "out = gcn(data.x, data.edge_index)"
   ]
  },
  {
   "cell_type": "code",
   "execution_count": 49,
   "id": "d983b975-674c-4754-baec-d5e895749685",
   "metadata": {},
   "outputs": [
    {
     "data": {
      "text/plain": [
       "torch.Size([2277, 1])"
      ]
     },
     "execution_count": 49,
     "metadata": {},
     "output_type": "execute_result"
    }
   ],
   "source": [
    "out.shape"
   ]
  },
  {
   "cell_type": "code",
   "execution_count": 50,
   "id": "6d7fd5a7-0b44-412e-9055-c04116aaabac",
   "metadata": {},
   "outputs": [
    {
     "name": "stdout",
     "output_type": "stream",
     "text": [
      "===========================================\n",
      "MSE = 0.7830 | RMSE = 0.8849 | MAE = 0.6911\n",
      "===========================================\n"
     ]
    }
   ],
   "source": [
    "y_pred = out.squeeze()[data.test_mask].detach().numpy()\n",
    "mse = mean_squared_error(data.y[data.test_mask], y_pred)\n",
    "mae = mean_absolute_error(data.y[data.test_mask], y_pred)\n",
    "\n",
    "print('=' * 43)\n",
    "print(f'MSE = {mse:.4f} | RMSE = {np.sqrt(mse):.4f} | MAE = {mae:.4f}')\n",
    "print('=' * 43)"
   ]
  },
  {
   "cell_type": "code",
   "execution_count": 54,
   "id": "bbfa06a1-3e9b-4d6d-b6dc-b8158d6e94bd",
   "metadata": {},
   "outputs": [],
   "source": [
    "# y_pred"
   ]
  },
  {
   "cell_type": "code",
   "execution_count": 53,
   "id": "b6b65975-998d-4309-91ae-557225f15d0c",
   "metadata": {},
   "outputs": [
    {
     "data": {
      "image/png": "[encoded data removed]",
      "text/plain": [
       "<Figure size 432x288 with 1 Axes>"
      ]
     },
     "metadata": {
      "needs_background": "light"
     },
     "output_type": "display_data"
    }
   ],
   "source": [
    "fig = sns.regplot(x=data.y[data.test_mask].numpy(), y=y_pred)\n",
    "fig.set(xlabel='Ground truth', ylabel='Predicted values')\n",
    "plt.show()"
   ]
  },
  {
   "cell_type": "code",
   "execution_count": 55,
   "id": "4065007a-dfbe-4e1a-9e2e-3857f4bf7e26",
   "metadata": {},
   "outputs": [
    {
     "data": {
      "text/plain": [
       "0.038047020806320275"
      ]
     },
     "execution_count": 55,
     "metadata": {},
     "output_type": "execute_result"
    }
   ],
   "source": [
    "## get the coefficient of determination\n",
    "from sklearn.metrics import r2_score\n",
    "r2_score(data.y[data.test_mask].numpy(), y_pred)"
   ]
  },
  {
   "cell_type": "markdown",
   "id": "57e3cf83-35f5-4d1b-989c-e6c8f5e96fe5",
   "metadata": {},
   "source": [
    "### GCN for other regression task on the squirrel variant of the wikimedia network"
   ]
  },
  {
   "cell_type": "code",
   "execution_count": 59,
   "id": "f542e9b3-0c3a-4ae2-b28e-9d48bbf9c141",
   "metadata": {},
   "outputs": [
    {
     "name": "stderr",
     "output_type": "stream",
     "text": [
      "Downloading https://raw.githubusercontent.com/graphdml-uiuc-jlu/geom-gcn/f1fc0d14b3b019c562737240d06ec83b07d16a8f/new_data/squirrel/out1_node_feature_label.txt\n",
      "Downloading https://raw.githubusercontent.com/graphdml-uiuc-jlu/geom-gcn/f1fc0d14b3b019c562737240d06ec83b07d16a8f/new_data/squirrel/out1_graph_edges.txt\n",
      "Downloading https://raw.githubusercontent.com/graphdml-uiuc-jlu/geom-gcn/f1fc0d14b3b019c562737240d06ec83b07d16a8f/splits/squirrel_split_0.6_0.2_0.npz\n",
      "Downloading https://raw.githubusercontent.com/graphdml-uiuc-jlu/geom-gcn/f1fc0d14b3b019c562737240d06ec83b07d16a8f/splits/squirrel_split_0.6_0.2_1.npz\n",
      "Downloading https://raw.githubusercontent.com/graphdml-uiuc-jlu/geom-gcn/f1fc0d14b3b019c562737240d06ec83b07d16a8f/splits/squirrel_split_0.6_0.2_2.npz\n",
      "Downloading https://raw.githubusercontent.com/graphdml-uiuc-jlu/geom-gcn/f1fc0d14b3b019c562737240d06ec83b07d16a8f/splits/squirrel_split_0.6_0.2_3.npz\n",
      "Downloading https://raw.githubusercontent.com/graphdml-uiuc-jlu/geom-gcn/f1fc0d14b3b019c562737240d06ec83b07d16a8f/splits/squirrel_split_0.6_0.2_4.npz\n",
      "Downloading https://raw.githubusercontent.com/graphdml-uiuc-jlu/geom-gcn/f1fc0d14b3b019c562737240d06ec83b07d16a8f/splits/squirrel_split_0.6_0.2_5.npz\n",
      "Downloading https://raw.githubusercontent.com/graphdml-uiuc-jlu/geom-gcn/f1fc0d14b3b019c562737240d06ec83b07d16a8f/splits/squirrel_split_0.6_0.2_6.npz\n",
      "Downloading https://raw.githubusercontent.com/graphdml-uiuc-jlu/geom-gcn/f1fc0d14b3b019c562737240d06ec83b07d16a8f/splits/squirrel_split_0.6_0.2_7.npz\n",
      "Downloading https://raw.githubusercontent.com/graphdml-uiuc-jlu/geom-gcn/f1fc0d14b3b019c562737240d06ec83b07d16a8f/splits/squirrel_split_0.6_0.2_8.npz\n",
      "Downloading https://raw.githubusercontent.com/graphdml-uiuc-jlu/geom-gcn/f1fc0d14b3b019c562737240d06ec83b07d16a8f/splits/squirrel_split_0.6_0.2_9.npz\n",
      "Processing...\n",
      "Done!\n"
     ]
    }
   ],
   "source": [
    "dataset = WikipediaNetwork(root=\".\", name=\"squirrel\", transform = T.RandomNodeSplit(num_val=200, num_test=500))\n",
    "\n",
    "# dataset = WikipediaNetwork(root=\".\", name=\"chameleon\")"
   ]
  },
  {
   "cell_type": "code",
   "execution_count": 60,
   "id": "26a3b256-25bf-479a-95e7-0af720020bda",
   "metadata": {},
   "outputs": [],
   "source": [
    "data = dataset[0]"
   ]
  },
  {
   "cell_type": "code",
   "execution_count": 61,
   "id": "d65e6119-0c8e-47a2-b3e0-a67994f36225",
   "metadata": {},
   "outputs": [
    {
     "name": "stdout",
     "output_type": "stream",
     "text": [
      "Dataset: WikipediaNetwork()\n",
      "-------------------\n",
      "Number of graphs: 1\n",
      "Number of nodes: 5201\n",
      "Number of unique features: 2089\n",
      "Number of classes: 5\n",
      "\n",
      "Graph:\n",
      "------\n",
      "Edges are directed: True\n",
      "Graph has isolated nodes: False\n",
      "Graph has loops: True\n"
     ]
    }
   ],
   "source": [
    "# Print information about the dataset\n",
    "print(f'Dataset: {dataset}')\n",
    "print('-------------------')\n",
    "print(f'Number of graphs: {len(dataset)}')\n",
    "print(f'Number of nodes: {data.x.shape[0]}')\n",
    "print(f'Number of unique features: {dataset.num_features}')\n",
    "print(f'Number of classes: {dataset.num_classes}')\n",
    "\n",
    "# Print information about the graph\n",
    "print(f'\\nGraph:')\n",
    "print('------')\n",
    "print(f'Edges are directed: {data.is_directed()}')\n",
    "print(f'Graph has isolated nodes: {data.has_isolated_nodes()}')\n",
    "print(f'Graph has loops: {data.has_self_loops()}')"
   ]
  },
  {
   "cell_type": "code",
   "execution_count": 63,
   "id": "ed881d26-dedc-4b87-828f-c8adfced30ff",
   "metadata": {},
   "outputs": [
    {
     "data": {
      "text/plain": [
       "tensor([3.5778, 4.5051, 3.1048,  ..., 2.9036, 3.2788, 3.3865],\n",
       "       dtype=torch.float64)"
      ]
     },
     "execution_count": 63,
     "metadata": {},
     "output_type": "execute_result"
    }
   ],
   "source": [
    "import pandas as pd\n",
    "import torch\n",
    "df = pd.read_csv('wikipedia/squirrel/musae_squirrel_target.csv')\n",
    "values = np.log10(df['target'])\n",
    "data.y = torch.tensor(values)\n",
    "data.y"
   ]
  },
  {
   "cell_type": "code",
   "execution_count": 64,
   "id": "fb4b8f76-4159-47e4-830b-99ffe3f093e7",
   "metadata": {},
   "outputs": [
    {
     "data": {
      "image/png": "[encoded data removed]",
      "text/plain": [
       "<Figure size 432x288 with 1 Axes>"
      ]
     },
     "metadata": {
      "needs_background": "light"
     },
     "output_type": "display_data"
    }
   ],
   "source": [
    "from torch_geometric.utils import degree\n",
    "from collections import Counter\n",
    "\n",
    "# Get list of degrees for each node\n",
    "degrees = degree(data.edge_index[0]).numpy()\n",
    "\n",
    "# Count the number of nodes for each degree\n",
    "numbers = Counter(degrees)\n",
    "\n",
    "# Bar plot\n",
    "fig, ax = plt.subplots()\n",
    "ax.set_xlabel('Node degree')\n",
    "ax.set_ylabel('Number of nodes')\n",
    "plt.bar(numbers.keys(), numbers.values())\n",
    "plt.show()"
   ]
  },
  {
   "cell_type": "markdown",
   "id": "86b45808-e450-4186-b7cb-1c7065b2a781",
   "metadata": {},
   "source": [
    "### checking the distribution of our regression variable"
   ]
  },
  {
   "cell_type": "code",
   "execution_count": null,
   "id": "1a606bb3-175e-4744-826e-d562e63dc550",
   "metadata": {},
   "outputs": [],
   "source": []
  }
 ],
 "metadata": {
  "kernelspec": {
   "display_name": "Python 3",
   "language": "python",
   "name": "python3"
  },
  "language_info": {
   "codemirror_mode": {
    "name": "ipython",
    "version": 3
   },
   "file_extension": ".py",
   "mimetype": "text/x-python",
   "name": "python",
   "nbconvert_exporter": "python",
   "pygments_lexer": "ipython3",
   "version": "3.9.15"
  }
 },
 "nbformat": 4,
 "nbformat_minor": 5
}
