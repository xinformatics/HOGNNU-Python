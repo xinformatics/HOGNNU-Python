{
 "cells": [
  {
   "cell_type": "markdown",
   "id": "923b80d9-e03c-441d-81a2-957a87c20913",
   "metadata": {},
   "source": [
    "### Graph Classification with GIN"
   ]
  },
  {
   "cell_type": "code",
   "execution_count": 1,
   "id": "65df5b5f-d2b2-44e7-89a7-ee9c1cbebd95",
   "metadata": {},
   "outputs": [],
   "source": [
    "import torch\n",
    "\n",
    "torch.manual_seed(11)\n",
    "torch.cuda.manual_seed(0)\n",
    "torch.cuda.manual_seed_all(0)\n",
    "torch.backends.cudnn.deterministic = True\n",
    "torch.backends.cudnn.benchmark = False"
   ]
  },
  {
   "cell_type": "code",
   "execution_count": 2,
   "id": "a95d37f9-0f9e-4686-8e1b-7140c4454065",
   "metadata": {},
   "outputs": [
    {
     "name": "stderr",
     "output_type": "stream",
     "text": [
      "Downloading https://www.chrsmrrs.com/graphkerneldatasets/PROTEINS.zip\n",
      "Extracting ./PROTEINS/PROTEINS.zip\n",
      "Processing...\n"
     ]
    },
    {
     "name": "stdout",
     "output_type": "stream",
     "text": [
      "Dataset: PROTEINS(1113)\n",
      "-----------------------\n",
      "Number of graphs: 1113\n",
      "Number of nodes: 14\n",
      "Number of features: 3\n",
      "Number of classes: 2\n"
     ]
    },
    {
     "name": "stderr",
     "output_type": "stream",
     "text": [
      "Done!\n"
     ]
    }
   ],
   "source": [
    "from torch_geometric.datasets import TUDataset\n",
    "\n",
    "dataset = TUDataset(root='.', name='PROTEINS').shuffle()\n",
    "\n",
    "# Print information about the dataset\n",
    "print(f'Dataset: {dataset}')\n",
    "print('-----------------------')\n",
    "print(f'Number of graphs: {len(dataset)}')\n",
    "print(f'Number of nodes: {dataset[0].x.shape[0]}')\n",
    "print(f'Number of features: {dataset.num_features}')\n",
    "print(f'Number of classes: {dataset.num_classes}')"
   ]
  },
  {
   "cell_type": "code",
   "execution_count": 3,
   "id": "b91fc2a4-b3c7-434c-b0ed-310da3bd98d4",
   "metadata": {},
   "outputs": [
    {
     "name": "stdout",
     "output_type": "stream",
     "text": [
      "Training set   = 890 graphs\n",
      "Validation set = 111 graphs\n",
      "Test set       = 112 graphs\n"
     ]
    }
   ],
   "source": [
    "from torch_geometric.loader import DataLoader\n",
    "\n",
    "# Create training, validation, and test sets\n",
    "train_dataset = dataset[:int(len(dataset)*0.8)]\n",
    "val_dataset   = dataset[int(len(dataset)*0.8):int(len(dataset)*0.9)]\n",
    "test_dataset  = dataset[int(len(dataset)*0.9):]\n",
    "\n",
    "print(f'Training set   = {len(train_dataset)} graphs')\n",
    "print(f'Validation set = {len(val_dataset)} graphs')\n",
    "print(f'Test set       = {len(test_dataset)} graphs')"
   ]
  },
  {
   "cell_type": "code",
   "execution_count": 4,
   "id": "eb62d383-6aca-4d34-a5f6-8c5ac14db0d2",
   "metadata": {},
   "outputs": [
    {
     "name": "stdout",
     "output_type": "stream",
     "text": [
      "\n",
      "Train loader:\n",
      " - Batch 0: DataBatch(edge_index=[2, 9274], x=[2468, 3], y=[64], batch=[2468], ptr=[65])\n",
      " - Batch 1: DataBatch(edge_index=[2, 8972], x=[2366, 3], y=[64], batch=[2366], ptr=[65])\n",
      " - Batch 2: DataBatch(edge_index=[2, 8820], x=[2350, 3], y=[64], batch=[2350], ptr=[65])\n",
      " - Batch 3: DataBatch(edge_index=[2, 9596], x=[2570, 3], y=[64], batch=[2570], ptr=[65])\n",
      " - Batch 4: DataBatch(edge_index=[2, 9108], x=[2490, 3], y=[64], batch=[2490], ptr=[65])\n",
      " - Batch 5: DataBatch(edge_index=[2, 10022], x=[2637, 3], y=[64], batch=[2637], ptr=[65])\n",
      " - Batch 6: DataBatch(edge_index=[2, 9732], x=[2726, 3], y=[64], batch=[2726], ptr=[65])\n",
      " - Batch 7: DataBatch(edge_index=[2, 9316], x=[2533, 3], y=[64], batch=[2533], ptr=[65])\n",
      " - Batch 8: DataBatch(edge_index=[2, 7994], x=[2074, 3], y=[64], batch=[2074], ptr=[65])\n",
      " - Batch 9: DataBatch(edge_index=[2, 11984], x=[3267, 3], y=[64], batch=[3267], ptr=[65])\n",
      " - Batch 10: DataBatch(edge_index=[2, 8544], x=[2241, 3], y=[64], batch=[2241], ptr=[65])\n",
      " - Batch 11: DataBatch(edge_index=[2, 9000], x=[2364, 3], y=[64], batch=[2364], ptr=[65])\n",
      " - Batch 12: DataBatch(edge_index=[2, 9122], x=[2443, 3], y=[64], batch=[2443], ptr=[65])\n",
      " - Batch 13: DataBatch(edge_index=[2, 8270], x=[2241, 3], y=[58], batch=[2241], ptr=[59])\n",
      "\n",
      "Validation loader:\n",
      " - Batch 0: DataBatch(edge_index=[2, 7738], x=[2021, 3], y=[64], batch=[2021], ptr=[65])\n",
      " - Batch 1: DataBatch(edge_index=[2, 6406], x=[1726, 3], y=[47], batch=[1726], ptr=[48])\n",
      "\n",
      "Test loader:\n",
      " - Batch 0: DataBatch(edge_index=[2, 9600], x=[2670, 3], y=[64], batch=[2670], ptr=[65])\n",
      " - Batch 1: DataBatch(edge_index=[2, 8590], x=[2284, 3], y=[48], batch=[2284], ptr=[49])\n"
     ]
    }
   ],
   "source": [
    "# Create mini-batches\n",
    "train_loader = DataLoader(train_dataset, batch_size=64, shuffle=True)\n",
    "val_loader   = DataLoader(val_dataset, batch_size=64, shuffle=True)\n",
    "test_loader  = DataLoader(test_dataset, batch_size=64, shuffle=True)\n",
    "\n",
    "print('\\nTrain loader:')\n",
    "for i, batch in enumerate(train_loader):\n",
    "    print(f' - Batch {i}: {batch}')\n",
    "\n",
    "print('\\nValidation loader:')\n",
    "for i, batch in enumerate(val_loader):\n",
    "    print(f' - Batch {i}: {batch}')\n",
    "\n",
    "print('\\nTest loader:')\n",
    "for i, batch in enumerate(test_loader):\n",
    "    print(f' - Batch {i}: {batch}')"
   ]
  },
  {
   "cell_type": "code",
   "execution_count": 5,
   "id": "f1c7ef7f-08db-4101-88c5-381b3d35ceb7",
   "metadata": {},
   "outputs": [],
   "source": [
    "import torch\n",
    "torch.manual_seed(0)\n",
    "import torch.nn.functional as F\n",
    "from torch.nn import Linear, Sequential, BatchNorm1d, ReLU, Dropout\n",
    "from torch_geometric.nn import GCNConv, GINConv\n",
    "from torch_geometric.nn import global_mean_pool, global_add_pool"
   ]
  },
  {
   "cell_type": "code",
   "execution_count": 6,
   "id": "36f751db-9c44-43d5-bad6-d362744b540c",
   "metadata": {},
   "outputs": [],
   "source": [
    "class GCN(torch.nn.Module):\n",
    "    \"\"\"GCN\"\"\"\n",
    "    def __init__(self, dim_h):\n",
    "        super(GCN, self).__init__()\n",
    "        self.conv1 = GCNConv(dataset.num_node_features, dim_h)\n",
    "        self.conv2 = GCNConv(dim_h, dim_h)\n",
    "        self.conv3 = GCNConv(dim_h, dim_h)\n",
    "        self.lin = Linear(dim_h, dataset.num_classes)\n",
    "\n",
    "    def forward(self, x, edge_index, batch):\n",
    "        # Node embeddings \n",
    "        h = self.conv1(x, edge_index)\n",
    "        h = h.relu()\n",
    "        h = self.conv2(h, edge_index)\n",
    "        h = h.relu()\n",
    "        h = self.conv3(h, edge_index)\n",
    "\n",
    "        # Graph-level readout\n",
    "        hG = global_mean_pool(h, batch)\n",
    "\n",
    "        # Classifier\n",
    "        h = F.dropout(hG, p=0.5, training=self.training)\n",
    "        h = self.lin(h)\n",
    "        \n",
    "        return F.log_softmax(h, dim=1)\n",
    "\n",
    "class GIN(torch.nn.Module):\n",
    "    \"\"\"GIN\"\"\"\n",
    "    def __init__(self, dim_h):\n",
    "        super(GIN, self).__init__()\n",
    "        self.conv1 = GINConv(\n",
    "            Sequential(Linear(dataset.num_node_features, dim_h),\n",
    "                       BatchNorm1d(dim_h), ReLU(),\n",
    "                       Linear(dim_h, dim_h), ReLU()))\n",
    "        self.conv2 = GINConv(\n",
    "            Sequential(Linear(dim_h, dim_h), BatchNorm1d(dim_h), ReLU(),\n",
    "                       Linear(dim_h, dim_h), ReLU()))\n",
    "        self.conv3 = GINConv(\n",
    "            Sequential(Linear(dim_h, dim_h), BatchNorm1d(dim_h), ReLU(),\n",
    "                       Linear(dim_h, dim_h), ReLU()))\n",
    "        self.lin1 = Linear(dim_h*3, dim_h*3)\n",
    "        self.lin2 = Linear(dim_h*3, dataset.num_classes)\n",
    "\n",
    "    def forward(self, x, edge_index, batch):\n",
    "        # Node embeddings \n",
    "        h1 = self.conv1(x, edge_index)\n",
    "        h2 = self.conv2(h1, edge_index)\n",
    "        h3 = self.conv3(h2, edge_index)\n",
    "\n",
    "        # Graph-level readout\n",
    "        h1 = global_add_pool(h1, batch)\n",
    "        h2 = global_add_pool(h2, batch)\n",
    "        h3 = global_add_pool(h3, batch)\n",
    "\n",
    "        # Concatenate graph embeddings\n",
    "        h = torch.cat((h1, h2, h3), dim=1)\n",
    "\n",
    "        # Classifier\n",
    "        h = self.lin1(h)\n",
    "        h = h.relu()\n",
    "        h = F.dropout(h, p=0.5, training=self.training)\n",
    "        h = self.lin2(h)\n",
    "        \n",
    "        return F.log_softmax(h, dim=1)"
   ]
  },
  {
   "cell_type": "code",
   "execution_count": 7,
   "id": "bbafa639-9fc7-4d35-b40d-a751bb57ef23",
   "metadata": {},
   "outputs": [],
   "source": [
    "def train(model, loader):\n",
    "    criterion = torch.nn.CrossEntropyLoss()\n",
    "    optimizer = torch.optim.Adam(model.parameters(), lr=0.01)\n",
    "    epochs = 100\n",
    "\n",
    "    model.train()\n",
    "    for epoch in range(epochs+1):\n",
    "        total_loss = 0\n",
    "        acc = 0\n",
    "        val_loss = 0\n",
    "        val_acc = 0\n",
    "\n",
    "        # Train on batches\n",
    "        for data in loader:\n",
    "            optimizer.zero_grad()\n",
    "            out = model(data.x, data.edge_index, data.batch)\n",
    "            loss = criterion(out, data.y)\n",
    "            total_loss += loss / len(loader)\n",
    "            acc += accuracy(out.argmax(dim=1), data.y) / len(loader)\n",
    "            loss.backward()\n",
    "            optimizer.step()\n",
    "\n",
    "            # Validation\n",
    "            val_loss, val_acc = test(model, val_loader)\n",
    "\n",
    "        # Print metrics every 20 epochs\n",
    "        if(epoch % 20 == 0):\n",
    "            print(f'Epoch {epoch:>3} | Train Loss: {total_loss:.2f} | Train Acc: {acc*100:>5.2f}% | Val Loss: {val_loss:.2f} | Val Acc: {val_acc*100:.2f}%')\n",
    "            \n",
    "    return model\n",
    "\n",
    "@torch.no_grad()\n",
    "def test(model, loader):\n",
    "    criterion = torch.nn.CrossEntropyLoss()\n",
    "    model.eval()\n",
    "    loss = 0\n",
    "    acc = 0\n",
    "\n",
    "    for data in loader:\n",
    "        out = model(data.x, data.edge_index, data.batch)\n",
    "        loss += criterion(out, data.y) / len(loader)\n",
    "        acc += accuracy(out.argmax(dim=1), data.y) / len(loader)\n",
    "\n",
    "    return loss, acc"
   ]
  },
  {
   "cell_type": "code",
   "execution_count": 8,
   "id": "2ca4c2d1-5801-471b-928e-bd70db49b858",
   "metadata": {},
   "outputs": [],
   "source": [
    "def accuracy(pred_y, y):\n",
    "    \"\"\"Calculate accuracy.\"\"\"\n",
    "    return ((pred_y == y).sum() / len(y)).item()"
   ]
  },
  {
   "cell_type": "code",
   "execution_count": 14,
   "id": "eedf2d9c-0018-448a-98a3-831f9ce007cd",
   "metadata": {},
   "outputs": [
    {
     "name": "stdout",
     "output_type": "stream",
     "text": [
      "Epoch   0 | Train Loss: 1.49 | Train Acc: 58.67% | Val Loss: 0.58 | Val Acc: 64.44%\n",
      "Epoch  20 | Train Loss: 0.52 | Train Acc: 77.46% | Val Loss: 0.53 | Val Acc: 78.92%\n",
      "Epoch  40 | Train Loss: 0.49 | Train Acc: 76.42% | Val Loss: 0.47 | Val Acc: 79.27%\n",
      "Epoch  60 | Train Loss: 0.48 | Train Acc: 76.76% | Val Loss: 0.50 | Val Acc: 76.01%\n",
      "Epoch  80 | Train Loss: 0.48 | Train Acc: 76.88% | Val Loss: 0.46 | Val Acc: 79.49%\n",
      "Epoch 100 | Train Loss: 0.48 | Train Acc: 76.31% | Val Loss: 0.49 | Val Acc: 78.42%\n",
      "Test Loss: 0.52 | Test Acc: 73.70%\n"
     ]
    }
   ],
   "source": [
    "gin = GIN(dim_h=32)\n",
    "gin = train(gin, train_loader)\n",
    "test_loss, test_acc = test(gin, test_loader)\n",
    "print(f'Test Loss: {test_loss:.2f} | Test Acc: {test_acc*100:.2f}%')"
   ]
  },
  {
   "cell_type": "code",
   "execution_count": 15,
   "id": "301d5a02-4981-440e-8065-61b283ea3d24",
   "metadata": {},
   "outputs": [
    {
     "name": "stdout",
     "output_type": "stream",
     "text": [
      "Epoch   0 | Train Loss: 0.68 | Train Acc: 59.21% | Val Loss: 0.66 | Val Acc: 60.19%\n",
      "Epoch  20 | Train Loss: 0.61 | Train Acc: 69.89% | Val Loss: 0.59 | Val Acc: 73.11%\n",
      "Epoch  40 | Train Loss: 0.61 | Train Acc: 69.31% | Val Loss: 0.60 | Val Acc: 68.92%\n",
      "Epoch  60 | Train Loss: 0.59 | Train Acc: 71.07% | Val Loss: 0.57 | Val Acc: 73.95%\n",
      "Epoch  80 | Train Loss: 0.59 | Train Acc: 73.02% | Val Loss: 0.58 | Val Acc: 71.83%\n",
      "Epoch 100 | Train Loss: 0.59 | Train Acc: 70.62% | Val Loss: 0.57 | Val Acc: 73.45%\n",
      "Test Loss: 0.62 | Test Acc: 69.79%\n",
      "\n"
     ]
    }
   ],
   "source": [
    "gcn = GCN(dim_h=32)\n",
    "gcn = train(gcn, train_loader)\n",
    "test_loss, test_acc = test(gcn, test_loader)\n",
    "print(f'Test Loss: {test_loss:.2f} | Test Acc: {test_acc*100:.2f}%')\n",
    "print()"
   ]
  },
  {
   "cell_type": "code",
   "execution_count": 16,
   "id": "be80ff6d-34fc-4d83-91c0-dcbba12cf921",
   "metadata": {},
   "outputs": [
    {
     "data": {
      "image/png": "[encoded data removed]",
      "text/plain": [
       "<Figure size 432x288 with 16 Axes>"
      ]
     },
     "metadata": {},
     "output_type": "display_data"
    }
   ],
   "source": [
    "fig, ax = plt.subplots(4, 4)\n",
    "fig.suptitle('GIN - Graph classification')\n",
    "\n",
    "for i, data in enumerate(dataset[-16:]):\n",
    "    # Calculate color (green if correct, red otherwise)\n",
    "    out = gin(data.x, data.edge_index, data.batch)\n",
    "    color = \"green\" if out.argmax(dim=1) == data.y else \"red\"\n",
    "\n",
    "    # Plot graph\n",
    "    ix = np.unravel_index(i, ax.shape)\n",
    "    ax[ix].axis('off')\n",
    "    G = to_networkx(dataset[i], to_undirected=True)\n",
    "    nx.draw_networkx(G,\n",
    "                    pos=nx.spring_layout(G, seed=0),\n",
    "                    with_labels=False,\n",
    "                    node_size=10,\n",
    "                    node_color=color,\n",
    "                    width=0.8,\n",
    "                    ax=ax[ix]\n",
    "                    )"
   ]
  },
  {
   "cell_type": "code",
   "execution_count": 17,
   "id": "bfcc5a3d-595a-47d4-a9e8-65442a5b7391",
   "metadata": {},
   "outputs": [
    {
     "data": {
      "image/png": "[encoded data removed]",
      "text/plain": [
       "<Figure size 432x288 with 16 Axes>"
      ]
     },
     "metadata": {},
     "output_type": "display_data"
    }
   ],
   "source": [
    "import numpy as np\n",
    "import matplotlib.pyplot as plt\n",
    "import networkx as nx\n",
    "from torch_geometric.utils import to_networkx\n",
    "\n",
    "fig, ax = plt.subplots(4, 4)\n",
    "fig.suptitle('GCN - Graph classification')\n",
    "\n",
    "for i, data in enumerate(dataset[-16:]):\n",
    "    # Calculate color (green if correct, red otherwise)\n",
    "    out = gcn(data.x, data.edge_index, data.batch)\n",
    "    color = \"green\" if out.argmax(dim=1) == data.y else \"red\"\n",
    "\n",
    "    # Plot graph\n",
    "    ix = np.unravel_index(i, ax.shape)\n",
    "    ax[ix].axis('off')\n",
    "    G = to_networkx(dataset[i], to_undirected=True)\n",
    "    nx.draw_networkx(G,\n",
    "                    pos=nx.spring_layout(G, seed=0),\n",
    "                    with_labels=False,\n",
    "                    node_size=10,\n",
    "                    node_color=color,\n",
    "                    width=0.8,\n",
    "                    ax=ax[ix]\n",
    "                    )"
   ]
  },
  {
   "cell_type": "code",
   "execution_count": 18,
   "id": "4fa9d89b-8752-49c5-9182-ea17b965b566",
   "metadata": {},
   "outputs": [
    {
     "name": "stdout",
     "output_type": "stream",
     "text": [
      "GCN accuracy:     68.49%\n",
      "GIN accuracy:     75.00%\n",
      "GCN+GIN accuracy: 76.04%\n"
     ]
    }
   ],
   "source": [
    "gcn.eval()\n",
    "gin.eval()\n",
    "acc_gcn = 0\n",
    "acc_gin = 0\n",
    "acc_ens = 0\n",
    "\n",
    "for data in test_loader:\n",
    "    # Get classifications\n",
    "    out_gcn = gcn(data.x, data.edge_index, data.batch)\n",
    "    out_gin = gin(data.x, data.edge_index, data.batch)\n",
    "    out_ens = (out_gcn + out_gin)/2\n",
    "\n",
    "    # Calculate accuracy scores\n",
    "    acc_gcn += accuracy(out_gcn.argmax(dim=1), data.y) / len(test_loader)\n",
    "    acc_gin += accuracy(out_gin.argmax(dim=1), data.y) / len(test_loader)\n",
    "    acc_ens += accuracy(out_ens.argmax(dim=1), data.y) / len(test_loader)\n",
    "\n",
    "# Print results\n",
    "print(f'GCN accuracy:     {acc_gcn*100:.2f}%')\n",
    "print(f'GIN accuracy:     {acc_gin*100:.2f}%')\n",
    "print(f'GCN+GIN accuracy: {acc_ens*100:.2f}%')"
   ]
  },
  {
   "cell_type": "code",
   "execution_count": null,
   "id": "8f70aac7-9474-4311-a0d5-280c5ed6f15c",
   "metadata": {},
   "outputs": [],
   "source": []
  }
 ],
 "metadata": {
  "kernelspec": {
   "display_name": "Python 3",
   "language": "python",
   "name": "python3"
  },
  "language_info": {
   "codemirror_mode": {
    "name": "ipython",
    "version": 3
   },
   "file_extension": ".py",
   "mimetype": "text/x-python",
   "name": "python",
   "nbconvert_exporter": "python",
   "pygments_lexer": "ipython3",
   "version": "3.9.15"
  }
 },
 "nbformat": 4,
 "nbformat_minor": 5
}
