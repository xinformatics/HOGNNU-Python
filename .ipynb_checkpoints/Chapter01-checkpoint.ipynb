{
 "cells": [
  {
   "cell_type": "markdown",
   "id": "80b5c7c2-7346-41ba-b771-72a1aafa8ecd",
   "metadata": {},
   "source": [
    "## In Chapter 1, there are no coding exercises available. Instead, the focus is on discussing the reasons and contexts for implementing graph neural networks."
   ]
  },
  {
   "cell_type": "code",
   "execution_count": null,
   "id": "8be7cfe9-eea6-4158-9a60-82bd62fcd9be",
   "metadata": {},
   "outputs": [],
   "source": []
  }
 ],
 "metadata": {
  "kernelspec": {
   "display_name": "Python 3",
   "language": "python",
   "name": "python3"
  },
  "language_info": {
   "codemirror_mode": {
    "name": "ipython",
    "version": 3
   },
   "file_extension": ".py",
   "mimetype": "text/x-python",
   "name": "python",
   "nbconvert_exporter": "python",
   "pygments_lexer": "ipython3",
   "version": "3.9.15"
  }
 },
 "nbformat": 4,
 "nbformat_minor": 5
}
