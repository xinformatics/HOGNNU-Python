{
 "cells": [
  {
   "cell_type": "code",
   "execution_count": 1,
   "id": "16d3732e-a0f2-44a0-b309-0c5884a970f3",
   "metadata": {},
   "outputs": [],
   "source": [
    "import torch\n",
    "torch.manual_seed(1)\n",
    "torch.cuda.manual_seed(1)\n",
    "torch.cuda.manual_seed_all(1)\n",
    "torch.backends.cudnn.deterministic = True\n",
    "torch.backends.cudnn.benchmark = False"
   ]
  },
  {
   "cell_type": "code",
   "execution_count": 2,
   "id": "dbe7aa09-21f1-4325-a10b-8d9c1946f61d",
   "metadata": {},
   "outputs": [
    {
     "data": {
      "text/plain": [
       "array([[1, 1, 1, 1],\n",
       "       [1, 1, 0, 0],\n",
       "       [1, 0, 1, 1],\n",
       "       [1, 0, 1, 1]])"
      ]
     },
     "execution_count": 2,
     "metadata": {},
     "output_type": "execute_result"
    }
   ],
   "source": [
    "import numpy as np\n",
    "np.random.seed(0)\n",
    "\n",
    "A = np.array([\n",
    "    [1, 1, 1, 1],\n",
    "    [1, 1, 0, 0],\n",
    "    [1, 0, 1, 1],\n",
    "    [1, 0, 1, 1]\n",
    "])\n",
    "A"
   ]
  },
  {
   "cell_type": "code",
   "execution_count": 3,
   "id": "79398a0e-d76f-44cb-b24b-c893b1ebcaa4",
   "metadata": {},
   "outputs": [
    {
     "data": {
      "text/plain": [
       "array([[ 0.09762701,  0.43037873,  0.20552675,  0.08976637],\n",
       "       [-0.1526904 ,  0.29178823, -0.12482558,  0.783546  ],\n",
       "       [ 0.92732552, -0.23311696,  0.58345008,  0.05778984],\n",
       "       [ 0.13608912,  0.85119328, -0.85792788, -0.8257414 ]])"
      ]
     },
     "execution_count": 3,
     "metadata": {},
     "output_type": "execute_result"
    }
   ],
   "source": [
    "X = np.random.uniform(-1, 1, (4, 4))\n",
    "X"
   ]
  },
  {
   "cell_type": "code",
   "execution_count": 4,
   "id": "5282ca88-a3e0-4f68-a7e7-f6ef43af66a3",
   "metadata": {},
   "outputs": [
    {
     "data": {
      "text/plain": [
       "array([[-0.95956321,  0.66523969,  0.5563135 ,  0.7400243 ],\n",
       "       [ 0.95723668,  0.59831713, -0.07704128,  0.56105835]])"
      ]
     },
     "execution_count": 4,
     "metadata": {},
     "output_type": "execute_result"
    }
   ],
   "source": [
    "W = np.random.uniform(-1, 1, (2, 4))\n",
    "W"
   ]
  },
  {
   "cell_type": "code",
   "execution_count": 5,
   "id": "cfdbaf35-a474-4168-b155-19258c974873",
   "metadata": {},
   "outputs": [
    {
     "data": {
      "text/plain": [
       "array([[-0.76345115,  0.27984204, -0.71329343,  0.88933783]])"
      ]
     },
     "execution_count": 5,
     "metadata": {},
     "output_type": "execute_result"
    }
   ],
   "source": [
    "W_att = np.random.uniform(-1, 1, (1, 4))\n",
    "W_att"
   ]
  },
  {
   "cell_type": "code",
   "execution_count": 6,
   "id": "faab8a0b-cb41-48d1-829c-12835c566295",
   "metadata": {},
   "outputs": [
    {
     "data": {
      "text/plain": [
       "(array([0, 0, 0, 0, 1, 1, 2, 2, 2, 3, 3, 3]),\n",
       " array([0, 1, 2, 3, 0, 1, 0, 2, 3, 0, 2, 3]))"
      ]
     },
     "execution_count": 6,
     "metadata": {},
     "output_type": "execute_result"
    }
   ],
   "source": [
    "connections = np.where(A > 0)\n",
    "connections"
   ]
  },
  {
   "cell_type": "code",
   "execution_count": 7,
   "id": "15273a55-cef4-4eae-bb49-cdbe3cea1d23",
   "metadata": {},
   "outputs": [
    {
     "data": {
      "text/plain": [
       "array([[ 0.37339233,  0.38548525,  0.37339233,  0.38548525],\n",
       "       [ 0.37339233,  0.38548525,  0.85102612,  0.47765279],\n",
       "       [ 0.37339233,  0.38548525, -0.67755906,  0.73566587],\n",
       "       [ 0.37339233,  0.38548525, -0.65268413,  0.24235977],\n",
       "       [ 0.85102612,  0.47765279,  0.37339233,  0.38548525],\n",
       "       [ 0.85102612,  0.47765279,  0.85102612,  0.47765279],\n",
       "       [-0.67755906,  0.73566587,  0.37339233,  0.38548525],\n",
       "       [-0.67755906,  0.73566587, -0.67755906,  0.73566587],\n",
       "       [-0.67755906,  0.73566587, -0.65268413,  0.24235977],\n",
       "       [-0.65268413,  0.24235977,  0.37339233,  0.38548525],\n",
       "       [-0.65268413,  0.24235977, -0.67755906,  0.73566587],\n",
       "       [-0.65268413,  0.24235977, -0.65268413,  0.24235977]])"
      ]
     },
     "execution_count": 7,
     "metadata": {},
     "output_type": "execute_result"
    }
   ],
   "source": [
    "np.concatenate([(X @ W.T)[connections[0]], (X @ W.T)[connections[1]]], axis=1)"
   ]
  },
  {
   "cell_type": "code",
   "execution_count": 8,
   "id": "90c58492-f93c-4306-b6b9-022fe262e6b9",
   "metadata": {},
   "outputs": [
    {
     "data": {
      "text/plain": [
       "array([[-0.1007035 , -0.35942847,  0.96036209,  0.50390318, -0.43956122,\n",
       "        -0.69828618,  0.79964181,  1.8607074 ,  1.40424849,  0.64260322,\n",
       "         1.70366881,  1.2472099 ]])"
      ]
     },
     "execution_count": 8,
     "metadata": {},
     "output_type": "execute_result"
    }
   ],
   "source": [
    "a = W_att @ np.concatenate([(X @ W.T)[connections[0]], (X @ W.T)[connections[1]]], axis=1).T\n",
    "a"
   ]
  },
  {
   "cell_type": "code",
   "execution_count": 9,
   "id": "8a896220-18fb-4768-a7bf-bc843b78959a",
   "metadata": {},
   "outputs": [
    {
     "data": {
      "text/plain": [
       "array([[-0.0201407 , -0.07188569,  0.96036209,  0.50390318, -0.08791224,\n",
       "        -0.13965724,  0.79964181,  1.8607074 ,  1.40424849,  0.64260322,\n",
       "         1.70366881,  1.2472099 ]])"
      ]
     },
     "execution_count": 9,
     "metadata": {},
     "output_type": "execute_result"
    }
   ],
   "source": [
    "def leaky_relu(x, alpha=0.2):\n",
    "    return np.maximum(alpha*x, x)\n",
    "\n",
    "e = leaky_relu(a)\n",
    "e"
   ]
  },
  {
   "cell_type": "code",
   "execution_count": 10,
   "id": "6aada7f0-37bd-4709-b829-ca5c120c3abd",
   "metadata": {},
   "outputs": [
    {
     "data": {
      "text/plain": [
       "array([[-0.0201407 , -0.07188569,  0.96036209,  0.50390318],\n",
       "       [-0.08791224, -0.13965724,  0.        ,  0.        ],\n",
       "       [ 0.79964181,  0.        ,  1.8607074 ,  1.40424849],\n",
       "       [ 0.64260322,  0.        ,  1.70366881,  1.2472099 ]])"
      ]
     },
     "execution_count": 10,
     "metadata": {},
     "output_type": "execute_result"
    }
   ],
   "source": [
    "E = np.zeros(A.shape)\n",
    "E[connections[0], connections[1]] = e[0]\n",
    "E"
   ]
  },
  {
   "cell_type": "code",
   "execution_count": 11,
   "id": "1b945e49-4627-4574-89ff-72ac31cf31f0",
   "metadata": {},
   "outputs": [
    {
     "data": {
      "text/plain": [
       "array([[0.15862414, 0.15062488, 0.42285965, 0.26789133],\n",
       "       [0.24193418, 0.22973368, 0.26416607, 0.26416607],\n",
       "       [0.16208847, 0.07285714, 0.46834625, 0.29670814],\n",
       "       [0.16010498, 0.08420266, 0.46261506, 0.2930773 ]])"
      ]
     },
     "execution_count": 11,
     "metadata": {},
     "output_type": "execute_result"
    }
   ],
   "source": [
    "def softmax2D(x, axis):\n",
    "    e = np.exp(x - np.expand_dims(np.max(x, axis=axis), axis))\n",
    "    sum = np.expand_dims(np.sum(e, axis=axis), axis)\n",
    "    return e / sum\n",
    "\n",
    "W_alpha = softmax2D(E, 1)\n",
    "W_alpha"
   ]
  },
  {
   "cell_type": "code",
   "execution_count": 12,
   "id": "5b6ddc7c-c8e4-4b34-9b01-248ed40918c8",
   "metadata": {},
   "outputs": [
    {
     "data": {
      "text/plain": [
       "array([[-1.10126376,  1.99749693],\n",
       "       [-0.33950544,  0.97045933],\n",
       "       [-1.03570438,  1.53614075],\n",
       "       [-1.03570438,  1.53614075]])"
      ]
     },
     "execution_count": 12,
     "metadata": {},
     "output_type": "execute_result"
    }
   ],
   "source": [
    "H = A.T @ W_alpha @ X @ W.T\n",
    "H"
   ]
  },
  {
   "cell_type": "markdown",
   "id": "57a9698c-056f-4026-a330-3b23b056d07c",
   "metadata": {},
   "source": [
    "## GAT in PyG\n"
   ]
  },
  {
   "cell_type": "code",
   "execution_count": 1,
   "id": "d5464cc8-6bbd-4d80-a273-43eaee6348e0",
   "metadata": {},
   "outputs": [],
   "source": [
    "from torch_geometric.datasets import Planetoid\n",
    "\n",
    "# Import dataset from PyTorch Geometric\n",
    "dataset = Planetoid(root=\".\", name=\"Cora\")\n",
    "data = dataset[0]"
   ]
  },
  {
   "cell_type": "code",
   "execution_count": 2,
   "id": "52f2c106-2115-4d56-87f6-2828c8801234",
   "metadata": {},
   "outputs": [],
   "source": [
    "import torch\n",
    "torch.manual_seed(1)\n",
    "import torch.nn.functional as F\n",
    "from torch_geometric.nn import GATv2Conv, GCNConv\n",
    "from torch.nn import Linear, Dropout"
   ]
  },
  {
   "cell_type": "code",
   "execution_count": 3,
   "id": "cab92e89-ee35-4c61-b468-b0b2c113310e",
   "metadata": {},
   "outputs": [],
   "source": [
    "def accuracy(y_pred, y_true):\n",
    "    \"\"\"Calculate accuracy.\"\"\"\n",
    "    return torch.sum(y_pred == y_true) / len(y_true)"
   ]
  },
  {
   "cell_type": "code",
   "execution_count": 4,
   "id": "896de2ce-cba7-48d3-a50c-7a3de5698e12",
   "metadata": {},
   "outputs": [],
   "source": [
    "\n",
    "class GAT(torch.nn.Module):\n",
    "    def __init__(self, dim_in, dim_h, dim_out, heads=8):\n",
    "        super().__init__()\n",
    "        self.gat1 = GATv2Conv(dim_in, dim_h, heads=heads)\n",
    "        self.gat2 = GATv2Conv(dim_h*heads, dim_out, heads=1)\n",
    "\n",
    "    def forward(self, x, edge_index):\n",
    "        h = F.dropout(x, p=0.6, training=self.training)\n",
    "        h = self.gat1(h, edge_index)\n",
    "        h = F.elu(h)\n",
    "        h = F.dropout(h, p=0.6, training=self.training)\n",
    "        h = self.gat2(h, edge_index)\n",
    "        return F.log_softmax(h, dim=1)\n",
    "\n",
    "    def fit(self, data, epochs):\n",
    "        criterion = torch.nn.CrossEntropyLoss()\n",
    "        optimizer = torch.optim.Adam(self.parameters(), lr=0.01, weight_decay=0.01)\n",
    "\n",
    "        self.train()\n",
    "        for epoch in range(epochs+1):\n",
    "            optimizer.zero_grad()\n",
    "            out = self(data.x, data.edge_index)\n",
    "            loss = criterion(out[data.train_mask], data.y[data.train_mask])\n",
    "            acc = accuracy(out[data.train_mask].argmax(dim=1), data.y[data.train_mask])\n",
    "            loss.backward()\n",
    "            optimizer.step()\n",
    "\n",
    "            if(epoch % 20 == 0):\n",
    "                val_loss = criterion(out[data.val_mask], data.y[data.val_mask])\n",
    "                val_acc = accuracy(out[data.val_mask].argmax(dim=1), data.y[data.val_mask])\n",
    "                print(f'Epoch {epoch:>3} | Train Loss: {loss:.3f} | Train Acc: {acc*100:>5.2f}% | Val Loss: {val_loss:.2f} | Val Acc: {val_acc*100:.2f}%')\n",
    "\n",
    "    @torch.no_grad()\n",
    "    def test(self, data):\n",
    "        self.eval()\n",
    "        out = self(data.x, data.edge_index)\n",
    "        acc = accuracy(out.argmax(dim=1)[data.test_mask], data.y[data.test_mask])\n",
    "        return acc\n"
   ]
  },
  {
   "cell_type": "code",
   "execution_count": 5,
   "id": "a5d578be-2d8c-4b80-9af0-23b65180a5cc",
   "metadata": {},
   "outputs": [
    {
     "name": "stdout",
     "output_type": "stream",
     "text": [
      "GAT(\n",
      "  (gat1): GATv2Conv(1433, 32, heads=8)\n",
      "  (gat2): GATv2Conv(256, 7, heads=1)\n",
      ")\n",
      "Epoch   0 | Train Loss: 1.969 | Train Acc: 15.00% | Val Loss: 1.96 | Val Acc: 11.80%\n",
      "Epoch  20 | Train Loss: 0.259 | Train Acc: 96.43% | Val Loss: 1.10 | Val Acc: 67.60%\n",
      "Epoch  40 | Train Loss: 0.163 | Train Acc: 98.57% | Val Loss: 0.90 | Val Acc: 70.80%\n",
      "Epoch  60 | Train Loss: 0.205 | Train Acc: 98.57% | Val Loss: 0.96 | Val Acc: 69.00%\n",
      "Epoch  80 | Train Loss: 0.130 | Train Acc: 100.00% | Val Loss: 0.91 | Val Acc: 70.80%\n",
      "Epoch 100 | Train Loss: 0.148 | Train Acc: 99.29% | Val Loss: 0.90 | Val Acc: 73.00%\n",
      "GAT test accuracy: 82.00%\n"
     ]
    }
   ],
   "source": [
    "# Create the Vanilla GNN model\n",
    "gat = GAT(dataset.num_features, 32, dataset.num_classes)\n",
    "print(gat)\n",
    "\n",
    "# Train\n",
    "gat.fit(data, epochs=100)\n",
    "\n",
    "# Test\n",
    "acc = gat.test(data)\n",
    "print(f'GAT test accuracy: {acc*100:.2f}%')"
   ]
  },
  {
   "cell_type": "code",
   "execution_count": 6,
   "id": "f49fc38e-94e0-4ab9-8982-8f68f1ba80f4",
   "metadata": {},
   "outputs": [
    {
     "data": {
      "text/plain": [
       "Data(x=[3327, 3703], edge_index=[2, 9104], y=[3327], train_mask=[3327], val_mask=[3327], test_mask=[3327])"
      ]
     },
     "execution_count": 6,
     "metadata": {},
     "output_type": "execute_result"
    }
   ],
   "source": [
    "dataset = Planetoid(root=\".\", name=\"CiteSeer\")\n",
    "data = dataset[0]\n",
    "data"
   ]
  },
  {
   "cell_type": "code",
   "execution_count": 7,
   "id": "90db3900-7495-48d9-b67f-e5b042231b7e",
   "metadata": {},
   "outputs": [
    {
     "data": {
      "text/plain": [
       "<BarContainer object of 32 artists>"
      ]
     },
     "execution_count": 7,
     "metadata": {},
     "output_type": "execute_result"
    },
    {
     "data": {
      "image/png": "[encoded data removed]",
      "text/plain": [
       "<Figure size 432x288 with 1 Axes>"
      ]
     },
     "metadata": {
      "needs_background": "light"
     },
     "output_type": "display_data"
    }
   ],
   "source": [
    "import matplotlib.pyplot as plt\n",
    "from torch_geometric.utils import degree\n",
    "from collections import Counter\n",
    "\n",
    "# Get list of degrees for each node\n",
    "degrees = degree(dataset[0].edge_index[0]).numpy()\n",
    "\n",
    "# Count the number of nodes for each degree\n",
    "numbers = Counter(degrees)\n",
    "\n",
    "# Bar plot\n",
    "fig, ax = plt.subplots()\n",
    "ax.set_xlabel('Node degree')\n",
    "ax.set_ylabel('Number of nodes')\n",
    "plt.bar(numbers.keys(), numbers.values())"
   ]
  },
  {
   "cell_type": "code",
   "execution_count": 8,
   "id": "29ff869f-d8b2-47e7-9e2e-684dd8ace4bc",
   "metadata": {},
   "outputs": [
    {
     "name": "stdout",
     "output_type": "stream",
     "text": [
      "GAT(\n",
      "  (gat1): GATv2Conv(3703, 16, heads=8)\n",
      "  (gat2): GATv2Conv(128, 6, heads=1)\n",
      ")\n",
      "Epoch   0 | Train Loss: 1.803 | Train Acc: 15.83% | Val Loss: 1.81 | Val Acc: 16.60%\n",
      "Epoch  20 | Train Loss: 0.175 | Train Acc: 96.67% | Val Loss: 1.15 | Val Acc: 60.40%\n",
      "Epoch  40 | Train Loss: 0.134 | Train Acc: 97.50% | Val Loss: 1.22 | Val Acc: 62.00%\n",
      "Epoch  60 | Train Loss: 0.135 | Train Acc: 97.50% | Val Loss: 1.21 | Val Acc: 61.60%\n",
      "Epoch  80 | Train Loss: 0.111 | Train Acc: 100.00% | Val Loss: 1.15 | Val Acc: 63.60%\n",
      "Epoch 100 | Train Loss: 0.099 | Train Acc: 100.00% | Val Loss: 1.24 | Val Acc: 58.60%\n",
      "GAT test accuracy: 67.40%\n"
     ]
    }
   ],
   "source": [
    "# Create the Vanilla GNN model\n",
    "gat = GAT(dataset.num_features, 16, dataset.num_classes)\n",
    "print(gat)\n",
    "\n",
    "# Train\n",
    "gat.fit(data, epochs=100)\n",
    "\n",
    "# Test\n",
    "acc = gat.test(data)\n",
    "print(f'GAT test accuracy: {acc*100:.2f}%')"
   ]
  },
  {
   "cell_type": "code",
   "execution_count": 10,
   "id": "ff39ce37-328e-48ea-8f5d-fb35f1392fda",
   "metadata": {},
   "outputs": [],
   "source": [
    "import numpy as np"
   ]
  },
  {
   "cell_type": "code",
   "execution_count": 11,
   "id": "d81ee85a-885a-4954-bbdf-eb97288b3511",
   "metadata": {},
   "outputs": [
    {
     "data": {
      "image/png": "[encoded data removed]",
      "text/plain": [
       "<Figure size 432x288 with 1 Axes>"
      ]
     },
     "metadata": {
      "needs_background": "light"
     },
     "output_type": "display_data"
    }
   ],
   "source": [
    "# Get model's classifications\n",
    "out = gat(data.x, data.edge_index)\n",
    "\n",
    "# Calculate the degree of each node\n",
    "degrees = degree(data.edge_index[0]).numpy()\n",
    "\n",
    "# Store accuracy scores and sample sizes\n",
    "accuracies = []\n",
    "sizes = []\n",
    "\n",
    "# Accuracy for degrees between 0 and 5\n",
    "for i in range(0, 6):\n",
    "    mask = np.where(degrees == i)[0]\n",
    "    accuracies.append(accuracy(out.argmax(dim=1)[mask], data.y[mask]))\n",
    "    sizes.append(len(mask))\n",
    "\n",
    "# Accuracy for degrees > 5\n",
    "mask = np.where(degrees > 5)[0]\n",
    "accuracies.append(accuracy(out.argmax(dim=1)[mask], data.y[mask]))\n",
    "sizes.append(len(mask))\n",
    "\n",
    "# Bar plot\n",
    "fig, ax = plt.subplots()\n",
    "ax.set_xlabel('Node degree')\n",
    "ax.set_ylabel('Accuracy score')\n",
    "plt.bar(['0','1','2','3','4','5','6+'], accuracies)\n",
    "for i in range(0, 7):\n",
    "    plt.text(i, accuracies[i], f'{accuracies[i]*100:.2f}%', ha='center', color='black')\n",
    "for i in range(0, 7):\n",
    "    plt.text(i, accuracies[i]//2, sizes[i], ha='center', color='white')"
   ]
  },
  {
   "cell_type": "code",
   "execution_count": null,
   "id": "1a65585c-7fde-469b-addf-8846741a8081",
   "metadata": {},
   "outputs": [],
   "source": []
  }
 ],
 "metadata": {
  "kernelspec": {
   "display_name": "Python 3",
   "language": "python",
   "name": "python3"
  },
  "language_info": {
   "codemirror_mode": {
    "name": "ipython",
    "version": 3
   },
   "file_extension": ".py",
   "mimetype": "text/x-python",
   "name": "python",
   "nbconvert_exporter": "python",
   "pygments_lexer": "ipython3",
   "version": "3.9.15"
  }
 },
 "nbformat": 4,
 "nbformat_minor": 5
}
