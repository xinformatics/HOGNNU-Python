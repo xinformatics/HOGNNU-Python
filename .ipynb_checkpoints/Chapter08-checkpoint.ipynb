{
 "cells": [
  {
   "cell_type": "markdown",
   "id": "1606e8d3-d77e-4b33-a29d-576473134e1c",
   "metadata": {},
   "source": [
    "## Advanced Techniques\n",
    "### Chapter 08"
   ]
  },
  {
   "cell_type": "code",
   "execution_count": null,
   "id": "d2b5aca3-a200-4c96-9e92-41a81ccfb4a6",
   "metadata": {},
   "outputs": [],
   "source": []
  }
 ],
 "metadata": {
  "kernelspec": {
   "display_name": "Python 3",
   "language": "python",
   "name": "python3"
  },
  "language_info": {
   "codemirror_mode": {
    "name": "ipython",
    "version": 3
   },
   "file_extension": ".py",
   "mimetype": "text/x-python",
   "name": "python",
   "nbconvert_exporter": "python",
   "pygments_lexer": "ipython3",
   "version": "3.9.15"
  }
 },
 "nbformat": 4,
 "nbformat_minor": 5
}
