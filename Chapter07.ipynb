{
 "cells": [
  {
   "cell_type": "code",
   "execution_count": 1,
   "id": "16d3732e-a0f2-44a0-b309-0c5884a970f3",
   "metadata": {},
   "outputs": [],
   "source": [
    "import torch\n",
    "torch.manual_seed(1)\n",
    "torch.cuda.manual_seed(1)\n",
    "torch.cuda.manual_seed_all(1)\n",
    "torch.backends.cudnn.deterministic = True\n",
    "torch.backends.cudnn.benchmark = False"
   ]
  },
  {
   "cell_type": "code",
   "execution_count": 2,
   "id": "dbe7aa09-21f1-4325-a10b-8d9c1946f61d",
   "metadata": {},
   "outputs": [
    {
     "data": {
      "text/plain": [
       "array([[1, 1, 1, 1],\n",
       "       [1, 1, 0, 0],\n",
       "       [1, 0, 1, 1],\n",
       "       [1, 0, 1, 1]])"
      ]
     },
     "execution_count": 2,
     "metadata": {},
     "output_type": "execute_result"
    }
   ],
   "source": [
    "import numpy as np\n",
    "np.random.seed(0)\n",
    "\n",
    "A = np.array([\n",
    "    [1, 1, 1, 1],\n",
    "    [1, 1, 0, 0],\n",
    "    [1, 0, 1, 1],\n",
    "    [1, 0, 1, 1]\n",
    "])\n",
    "A"
   ]
  },
  {
   "cell_type": "code",
   "execution_count": 3,
   "id": "79398a0e-d76f-44cb-b24b-c893b1ebcaa4",
   "metadata": {},
   "outputs": [
    {
     "data": {
      "text/plain": [
       "array([[ 0.09762701,  0.43037873,  0.20552675,  0.08976637],\n",
       "       [-0.1526904 ,  0.29178823, -0.12482558,  0.783546  ],\n",
       "       [ 0.92732552, -0.23311696,  0.58345008,  0.05778984],\n",
       "       [ 0.13608912,  0.85119328, -0.85792788, -0.8257414 ]])"
      ]
     },
     "execution_count": 3,
     "metadata": {},
     "output_type": "execute_result"
    }
   ],
   "source": [
    "X = np.random.uniform(-1, 1, (4, 4))\n",
    "X"
   ]
  },
  {
   "cell_type": "code",
   "execution_count": 4,
   "id": "5282ca88-a3e0-4f68-a7e7-f6ef43af66a3",
   "metadata": {},
   "outputs": [
    {
     "data": {
      "text/plain": [
       "array([[-0.95956321,  0.66523969,  0.5563135 ,  0.7400243 ],\n",
       "       [ 0.95723668,  0.59831713, -0.07704128,  0.56105835]])"
      ]
     },
     "execution_count": 4,
     "metadata": {},
     "output_type": "execute_result"
    }
   ],
   "source": [
    "W = np.random.uniform(-1, 1, (2, 4))\n",
    "W"
   ]
  },
  {
   "cell_type": "code",
   "execution_count": 5,
   "id": "cfdbaf35-a474-4168-b155-19258c974873",
   "metadata": {},
   "outputs": [
    {
     "data": {
      "text/plain": [
       "array([[-0.76345115,  0.27984204, -0.71329343,  0.88933783]])"
      ]
     },
     "execution_count": 5,
     "metadata": {},
     "output_type": "execute_result"
    }
   ],
   "source": [
    "W_att = np.random.uniform(-1, 1, (1, 4))\n",
    "W_att"
   ]
  },
  {
   "cell_type": "code",
   "execution_count": 6,
   "id": "faab8a0b-cb41-48d1-829c-12835c566295",
   "metadata": {},
   "outputs": [
    {
     "data": {
      "text/plain": [
       "(array([0, 0, 0, 0, 1, 1, 2, 2, 2, 3, 3, 3]),\n",
       " array([0, 1, 2, 3, 0, 1, 0, 2, 3, 0, 2, 3]))"
      ]
     },
     "execution_count": 6,
     "metadata": {},
     "output_type": "execute_result"
    }
   ],
   "source": [
    "connections = np.where(A > 0)\n",
    "connections"
   ]
  },
  {
   "cell_type": "code",
   "execution_count": 7,
   "id": "15273a55-cef4-4eae-bb49-cdbe3cea1d23",
   "metadata": {},
   "outputs": [
    {
     "data": {
      "text/plain": [
       "array([[ 0.37339233,  0.38548525,  0.37339233,  0.38548525],\n",
       "       [ 0.37339233,  0.38548525,  0.85102612,  0.47765279],\n",
       "       [ 0.37339233,  0.38548525, -0.67755906,  0.73566587],\n",
       "       [ 0.37339233,  0.38548525, -0.65268413,  0.24235977],\n",
       "       [ 0.85102612,  0.47765279,  0.37339233,  0.38548525],\n",
       "       [ 0.85102612,  0.47765279,  0.85102612,  0.47765279],\n",
       "       [-0.67755906,  0.73566587,  0.37339233,  0.38548525],\n",
       "       [-0.67755906,  0.73566587, -0.67755906,  0.73566587],\n",
       "       [-0.67755906,  0.73566587, -0.65268413,  0.24235977],\n",
       "       [-0.65268413,  0.24235977,  0.37339233,  0.38548525],\n",
       "       [-0.65268413,  0.24235977, -0.67755906,  0.73566587],\n",
       "       [-0.65268413,  0.24235977, -0.65268413,  0.24235977]])"
      ]
     },
     "execution_count": 7,
     "metadata": {},
     "output_type": "execute_result"
    }
   ],
   "source": [
    "np.concatenate([(X @ W.T)[connections[0]], (X @ W.T)[connections[1]]], axis=1)"
   ]
  },
  {
   "cell_type": "code",
   "execution_count": 8,
   "id": "90c58492-f93c-4306-b6b9-022fe262e6b9",
   "metadata": {},
   "outputs": [
    {
     "data": {
      "text/plain": [
       "array([[-0.1007035 , -0.35942847,  0.96036209,  0.50390318, -0.43956122,\n",
       "        -0.69828618,  0.79964181,  1.8607074 ,  1.40424849,  0.64260322,\n",
       "         1.70366881,  1.2472099 ]])"
      ]
     },
     "execution_count": 8,
     "metadata": {},
     "output_type": "execute_result"
    }
   ],
   "source": [
    "a = W_att @ np.concatenate([(X @ W.T)[connections[0]], (X @ W.T)[connections[1]]], axis=1).T\n",
    "a"
   ]
  },
  {
   "cell_type": "code",
   "execution_count": 9,
   "id": "8a896220-18fb-4768-a7bf-bc843b78959a",
   "metadata": {},
   "outputs": [
    {
     "data": {
      "text/plain": [
       "array([[-0.0201407 , -0.07188569,  0.96036209,  0.50390318, -0.08791224,\n",
       "        -0.13965724,  0.79964181,  1.8607074 ,  1.40424849,  0.64260322,\n",
       "         1.70366881,  1.2472099 ]])"
      ]
     },
     "execution_count": 9,
     "metadata": {},
     "output_type": "execute_result"
    }
   ],
   "source": [
    "def leaky_relu(x, alpha=0.2):\n",
    "    return np.maximum(alpha*x, x)\n",
    "\n",
    "e = leaky_relu(a)\n",
    "e"
   ]
  },
  {
   "cell_type": "code",
   "execution_count": 10,
   "id": "6aada7f0-37bd-4709-b829-ca5c120c3abd",
   "metadata": {},
   "outputs": [
    {
     "data": {
      "text/plain": [
       "array([[-0.0201407 , -0.07188569,  0.96036209,  0.50390318],\n",
       "       [-0.08791224, -0.13965724,  0.        ,  0.        ],\n",
       "       [ 0.79964181,  0.        ,  1.8607074 ,  1.40424849],\n",
       "       [ 0.64260322,  0.        ,  1.70366881,  1.2472099 ]])"
      ]
     },
     "execution_count": 10,
     "metadata": {},
     "output_type": "execute_result"
    }
   ],
   "source": [
    "E = np.zeros(A.shape)\n",
    "E[connections[0], connections[1]] = e[0]\n",
    "E"
   ]
  },
  {
   "cell_type": "code",
   "execution_count": 11,
   "id": "1b945e49-4627-4574-89ff-72ac31cf31f0",
   "metadata": {},
   "outputs": [
    {
     "data": {
      "text/plain": [
       "array([[0.15862414, 0.15062488, 0.42285965, 0.26789133],\n",
       "       [0.24193418, 0.22973368, 0.26416607, 0.26416607],\n",
       "       [0.16208847, 0.07285714, 0.46834625, 0.29670814],\n",
       "       [0.16010498, 0.08420266, 0.46261506, 0.2930773 ]])"
      ]
     },
     "execution_count": 11,
     "metadata": {},
     "output_type": "execute_result"
    }
   ],
   "source": [
    "def softmax2D(x, axis):\n",
    "    e = np.exp(x - np.expand_dims(np.max(x, axis=axis), axis))\n",
    "    sum = np.expand_dims(np.sum(e, axis=axis), axis)\n",
    "    return e / sum\n",
    "\n",
    "W_alpha = softmax2D(E, 1)\n",
    "W_alpha"
   ]
  },
  {
   "cell_type": "code",
   "execution_count": 12,
   "id": "5b6ddc7c-c8e4-4b34-9b01-248ed40918c8",
   "metadata": {},
   "outputs": [
    {
     "data": {
      "text/plain": [
       "array([[-1.10126376,  1.99749693],\n",
       "       [-0.33950544,  0.97045933],\n",
       "       [-1.03570438,  1.53614075],\n",
       "       [-1.03570438,  1.53614075]])"
      ]
     },
     "execution_count": 12,
     "metadata": {},
     "output_type": "execute_result"
    }
   ],
   "source": [
    "H = A.T @ W_alpha @ X @ W.T\n",
    "H"
   ]
  },
  {
   "cell_type": "markdown",
   "id": "57a9698c-056f-4026-a330-3b23b056d07c",
   "metadata": {},
   "source": [
    "## GAT in PyG\n"
   ]
  },
  {
   "cell_type": "code",
   "execution_count": 13,
   "id": "d5464cc8-6bbd-4d80-a273-43eaee6348e0",
   "metadata": {},
   "outputs": [
    {
     "name": "stderr",
     "output_type": "stream",
     "text": [
      "/home/shashank/anaconda3/envs/pygeo/lib/python3.9/site-packages/torch/cuda/__init__.py:88: UserWarning: CUDA initialization: CUDA unknown error - this may be due to an incorrectly set up environment, e.g. changing env variable CUDA_VISIBLE_DEVICES after program start. Setting the available devices to be zero. (Triggered internally at /opt/conda/conda-bld/pytorch_1670525539683/work/c10/cuda/CUDAFunctions.cpp:109.)\n",
      "  return torch._C._cuda_getDeviceCount() > 0\n"
     ]
    }
   ],
   "source": [
    "from torch_geometric.datasets import Planetoid\n",
    "\n",
    "# Import dataset from PyTorch Geometric\n",
    "dataset = Planetoid(root=\".\", name=\"Cora\")\n",
    "data = dataset[0]"
   ]
  },
  {
   "cell_type": "code",
   "execution_count": null,
   "id": "52f2c106-2115-4d56-87f6-2828c8801234",
   "metadata": {},
   "outputs": [],
   "source": []
  }
 ],
 "metadata": {
  "kernelspec": {
   "display_name": "Python 3",
   "language": "python",
   "name": "python3"
  },
  "language_info": {
   "codemirror_mode": {
    "name": "ipython",
    "version": 3
   },
   "file_extension": ".py",
   "mimetype": "text/x-python",
   "name": "python",
   "nbconvert_exporter": "python",
   "pygments_lexer": "ipython3",
   "version": "3.9.15"
  }
 },
 "nbformat": 4,
 "nbformat_minor": 5
}
