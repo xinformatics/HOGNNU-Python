{
 "cells": [
  {
   "cell_type": "markdown",
   "id": "0d3b9563-6247-42f5-8a94-cd84f3015bd7",
   "metadata": {},
   "source": [
    "## Chapter 5: Include Node Features with Vanilla Neural Networks"
   ]
  },
  {
   "cell_type": "markdown",
   "id": "34965825-f4f8-467c-9611-7f0ebdd90079",
   "metadata": {},
   "source": [
    "## here we will see node classification ;\n",
    "## first with vanilla NNs\n",
    "## second with vanilla GNNs"
   ]
  },
  {
   "cell_type": "markdown",
   "id": "bca93ed1-29d6-4ea8-862c-5820890c42f3",
   "metadata": {},
   "source": [
    "## the CiteSeer and Pybmed dataset\n",
    "## as per [Pytorch Geometric](https://pytorch-geometric.readthedocs.io/en/latest/generated/torch_geometric.datasets.Planetoid.html)"
   ]
  },
  {
   "cell_type": "code",
   "execution_count": 2,
   "id": "1c43698c-e6d2-4d1f-8449-a7768661829c",
   "metadata": {},
   "outputs": [],
   "source": [
    "from torch_geometric.datasets import Planetoid"
   ]
  },
  {
   "cell_type": "code",
   "execution_count": 5,
   "id": "6a43487e-6e43-4208-8c37-e9eb81ec7595",
   "metadata": {},
   "outputs": [],
   "source": [
    "dataset_CSeer = Planetoid(root=\".\", name=\"CiteSeer\") \n"
   ]
  },
  {
   "cell_type": "code",
   "execution_count": 6,
   "id": "380a8551-fb29-4c2e-a658-2134e6ec2cfe",
   "metadata": {},
   "outputs": [],
   "source": [
    "data_graph_CSeer = dataset_CSeer[0] # get the cora graph"
   ]
  },
  {
   "cell_type": "code",
   "execution_count": 7,
   "id": "e5aaa892-fe2f-47bd-8203-da316cbaaf4b",
   "metadata": {},
   "outputs": [
    {
     "data": {
      "text/plain": [
       "Data(x=[3327, 3703], edge_index=[2, 9104], y=[3327], train_mask=[3327], val_mask=[3327], test_mask=[3327])"
      ]
     },
     "execution_count": 7,
     "metadata": {},
     "output_type": "execute_result"
    }
   ],
   "source": [
    "data_graph_CSeer"
   ]
  },
  {
   "cell_type": "code",
   "execution_count": 8,
   "id": "5da3e58b-8acb-4e8b-8601-291b15ba7a49",
   "metadata": {},
   "outputs": [
    {
     "name": "stdout",
     "output_type": "stream",
     "text": [
      "Dataset: CiteSeer()\n",
      "---------------\n",
      "Number of graphs: 1\n",
      "Number of nodes: 3327\n",
      "Number of features: 3703\n",
      "Number of classes: 6\n",
      "\n",
      "Graph:\n",
      "------\n",
      "Edges are directed: False\n",
      "Graph has isolated nodes: True\n",
      "Graph has loops: False\n"
     ]
    }
   ],
   "source": [
    "# Print information about the dataset\n",
    "print(f'Dataset: {dataset_CSeer}')\n",
    "print('---------------')\n",
    "print(f'Number of graphs: {len(dataset_CSeer)}')\n",
    "print(f'Number of nodes: {data_graph_CSeer.x.shape[0]}')\n",
    "print(f'Number of features: {dataset_CSeer.num_features}')\n",
    "print(f'Number of classes: {dataset_CSeer.num_classes}')\n",
    "\n",
    "# Print information about the graph\n",
    "print(f'\\nGraph:')\n",
    "print('------')\n",
    "print(f'Edges are directed: {data_graph_CSeer.is_directed()}')\n",
    "print(f'Graph has isolated nodes: {data_graph_CSeer.has_isolated_nodes()}')\n",
    "print(f'Graph has loops: {data_graph_CSeer.has_self_loops()}')"
   ]
  },
  {
   "cell_type": "code",
   "execution_count": 9,
   "id": "a40dfd70-8594-49d8-a941-1cab39022058",
   "metadata": {},
   "outputs": [
    {
     "name": "stderr",
     "output_type": "stream",
     "text": [
      "Downloading https://github.com/kimiyoung/planetoid/raw/master/data/ind.pubmed.x\n",
      "Downloading https://github.com/kimiyoung/planetoid/raw/master/data/ind.pubmed.tx\n",
      "Downloading https://github.com/kimiyoung/planetoid/raw/master/data/ind.pubmed.allx\n",
      "Downloading https://github.com/kimiyoung/planetoid/raw/master/data/ind.pubmed.y\n",
      "Downloading https://github.com/kimiyoung/planetoid/raw/master/data/ind.pubmed.ty\n",
      "Downloading https://github.com/kimiyoung/planetoid/raw/master/data/ind.pubmed.ally\n",
      "Downloading https://github.com/kimiyoung/planetoid/raw/master/data/ind.pubmed.graph\n",
      "Downloading https://github.com/kimiyoung/planetoid/raw/master/data/ind.pubmed.test.index\n",
      "Processing...\n",
      "Done!\n"
     ]
    }
   ],
   "source": [
    "dataset_PM = Planetoid(root=\".\", name=\"PubMed\") "
   ]
  },
  {
   "cell_type": "code",
   "execution_count": 10,
   "id": "ab099b16-668b-432f-a77d-c3331228677f",
   "metadata": {},
   "outputs": [
    {
     "data": {
      "text/plain": [
       "Data(x=[19717, 500], edge_index=[2, 88648], y=[19717], train_mask=[19717], val_mask=[19717], test_mask=[19717])"
      ]
     },
     "execution_count": 10,
     "metadata": {},
     "output_type": "execute_result"
    }
   ],
   "source": [
    "dataset_PM.data"
   ]
  },
  {
   "cell_type": "code",
   "execution_count": 11,
   "id": "7a7439a4-d309-4e85-b887-f7c08f641f50",
   "metadata": {},
   "outputs": [],
   "source": [
    "data_graph_PM = dataset_PM[0] # the graph"
   ]
  },
  {
   "cell_type": "code",
   "execution_count": 12,
   "id": "cd94a3f6-0868-4835-a7d3-cf28b43b40b8",
   "metadata": {},
   "outputs": [
    {
     "name": "stdout",
     "output_type": "stream",
     "text": [
      "Dataset: PubMed()\n",
      "---------------\n",
      "Number of graphs: 1\n",
      "Number of nodes: 19717\n",
      "Number of features: 500\n",
      "Number of classes: 3\n",
      "\n",
      "Graph:\n",
      "------\n",
      "Edges are directed: False\n",
      "Graph has isolated nodes: False\n",
      "Graph has loops: False\n"
     ]
    }
   ],
   "source": [
    "# Print information about the dataset\n",
    "print(f'Dataset: {dataset_PM}')\n",
    "print('---------------')\n",
    "print(f'Number of graphs: {len(dataset_PM)}')\n",
    "print(f'Number of nodes: {data_graph_PM.x.shape[0]}')\n",
    "print(f'Number of features: {dataset_PM.num_features}')\n",
    "print(f'Number of classes: {dataset_PM.num_classes}')\n",
    "\n",
    "# Print information about the graph\n",
    "print(f'\\nGraph:')\n",
    "print('------')\n",
    "print(f'Edges are directed: {data_graph_PM.is_directed()}')\n",
    "print(f'Graph has isolated nodes: {data_graph_PM.has_isolated_nodes()}')\n",
    "print(f'Graph has loops: {data_graph_PM.has_self_loops()}')"
   ]
  },
  {
   "cell_type": "code",
   "execution_count": 25,
   "id": "e29b1d65-f58d-4a00-b912-6c450e73b00e",
   "metadata": {},
   "outputs": [],
   "source": [
    "## FBPP doesn't have training, evaluation, test by default so we make them\n"
   ]
  },
  {
   "cell_type": "code",
   "execution_count": 13,
   "id": "220bff56-3b9e-4bf6-a0b8-e73fe5a85b0d",
   "metadata": {},
   "outputs": [],
   "source": [
    "# data_graph_FBPP.train_mask = range(18000)\n",
    "# data_graph_FBPP.val_mask = range(18001, 20000)\n",
    "# data_graph_FBPP.test_mask = range(20001, 22470)"
   ]
  },
  {
   "cell_type": "code",
   "execution_count": 14,
   "id": "df5b2b15-f323-4748-bf55-045f4b5f6dda",
   "metadata": {},
   "outputs": [],
   "source": [
    "# dataset_FBPP.data.train_mask = range(18000)\n",
    "# dataset_FBPP.data.val_mask = range(18001, 20000)\n",
    "# dataset_FBPP.data.test_mask = range(20001, 22470)"
   ]
  },
  {
   "cell_type": "markdown",
   "id": "4c9c314a-5a31-4688-b5f8-c98fed7a0194",
   "metadata": {},
   "source": [
    "### MLP on CiteSeer"
   ]
  },
  {
   "cell_type": "code",
   "execution_count": 15,
   "id": "ade9362d-72c6-4fae-89a7-5bcf24a00c02",
   "metadata": {},
   "outputs": [],
   "source": [
    "import pandas as pd\n",
    "\n",
    "df_x = pd.DataFrame(data_graph_CSeer.x.numpy())\n",
    "\n",
    "df_x['label'] = pd.DataFrame(data_graph_CSeer.y)"
   ]
  },
  {
   "cell_type": "code",
   "execution_count": 16,
   "id": "9f2ea0db-4dfe-44c0-bd71-03a149274adc",
   "metadata": {},
   "outputs": [
    {
     "data": {
      "text/html": [
       "<div>\n",
       "<style scoped>\n",
       "    .dataframe tbody tr th:only-of-type {\n",
       "        vertical-align: middle;\n",
       "    }\n",
       "\n",
       "    .dataframe tbody tr th {\n",
       "        vertical-align: top;\n",
       "    }\n",
       "\n",
       "    .dataframe thead th {\n",
       "        text-align: right;\n",
       "    }\n",
       "</style>\n",
       "<table border=\"1\" class=\"dataframe\">\n",
       "  <thead>\n",
       "    <tr style=\"text-align: right;\">\n",
       "      <th></th>\n",
       "      <th>0</th>\n",
       "      <th>1</th>\n",
       "      <th>2</th>\n",
       "      <th>3</th>\n",
       "      <th>4</th>\n",
       "      <th>5</th>\n",
       "      <th>6</th>\n",
       "      <th>7</th>\n",
       "      <th>8</th>\n",
       "      <th>9</th>\n",
       "      <th>...</th>\n",
       "      <th>3694</th>\n",
       "      <th>3695</th>\n",
       "      <th>3696</th>\n",
       "      <th>3697</th>\n",
       "      <th>3698</th>\n",
       "      <th>3699</th>\n",
       "      <th>3700</th>\n",
       "      <th>3701</th>\n",
       "      <th>3702</th>\n",
       "      <th>label</th>\n",
       "    </tr>\n",
       "  </thead>\n",
       "  <tbody>\n",
       "    <tr>\n",
       "      <th>0</th>\n",
       "      <td>0.0</td>\n",
       "      <td>0.0</td>\n",
       "      <td>0.0</td>\n",
       "      <td>0.0</td>\n",
       "      <td>0.0</td>\n",
       "      <td>0.0</td>\n",
       "      <td>0.0</td>\n",
       "      <td>0.0</td>\n",
       "      <td>0.0</td>\n",
       "      <td>0.0</td>\n",
       "      <td>...</td>\n",
       "      <td>0.0</td>\n",
       "      <td>0.0</td>\n",
       "      <td>0.0</td>\n",
       "      <td>0.0</td>\n",
       "      <td>0.0</td>\n",
       "      <td>0.0</td>\n",
       "      <td>0.0</td>\n",
       "      <td>0.0</td>\n",
       "      <td>0.0</td>\n",
       "      <td>3</td>\n",
       "    </tr>\n",
       "    <tr>\n",
       "      <th>1</th>\n",
       "      <td>0.0</td>\n",
       "      <td>0.0</td>\n",
       "      <td>0.0</td>\n",
       "      <td>0.0</td>\n",
       "      <td>0.0</td>\n",
       "      <td>0.0</td>\n",
       "      <td>0.0</td>\n",
       "      <td>0.0</td>\n",
       "      <td>0.0</td>\n",
       "      <td>0.0</td>\n",
       "      <td>...</td>\n",
       "      <td>0.0</td>\n",
       "      <td>0.0</td>\n",
       "      <td>0.0</td>\n",
       "      <td>0.0</td>\n",
       "      <td>0.0</td>\n",
       "      <td>0.0</td>\n",
       "      <td>0.0</td>\n",
       "      <td>0.0</td>\n",
       "      <td>0.0</td>\n",
       "      <td>1</td>\n",
       "    </tr>\n",
       "    <tr>\n",
       "      <th>2</th>\n",
       "      <td>0.0</td>\n",
       "      <td>0.0</td>\n",
       "      <td>0.0</td>\n",
       "      <td>0.0</td>\n",
       "      <td>0.0</td>\n",
       "      <td>0.0</td>\n",
       "      <td>0.0</td>\n",
       "      <td>0.0</td>\n",
       "      <td>0.0</td>\n",
       "      <td>0.0</td>\n",
       "      <td>...</td>\n",
       "      <td>0.0</td>\n",
       "      <td>0.0</td>\n",
       "      <td>0.0</td>\n",
       "      <td>0.0</td>\n",
       "      <td>0.0</td>\n",
       "      <td>0.0</td>\n",
       "      <td>0.0</td>\n",
       "      <td>0.0</td>\n",
       "      <td>0.0</td>\n",
       "      <td>5</td>\n",
       "    </tr>\n",
       "    <tr>\n",
       "      <th>3</th>\n",
       "      <td>0.0</td>\n",
       "      <td>0.0</td>\n",
       "      <td>0.0</td>\n",
       "      <td>0.0</td>\n",
       "      <td>0.0</td>\n",
       "      <td>0.0</td>\n",
       "      <td>0.0</td>\n",
       "      <td>0.0</td>\n",
       "      <td>0.0</td>\n",
       "      <td>0.0</td>\n",
       "      <td>...</td>\n",
       "      <td>0.0</td>\n",
       "      <td>0.0</td>\n",
       "      <td>0.0</td>\n",
       "      <td>0.0</td>\n",
       "      <td>0.0</td>\n",
       "      <td>0.0</td>\n",
       "      <td>0.0</td>\n",
       "      <td>0.0</td>\n",
       "      <td>0.0</td>\n",
       "      <td>5</td>\n",
       "    </tr>\n",
       "    <tr>\n",
       "      <th>4</th>\n",
       "      <td>0.0</td>\n",
       "      <td>0.0</td>\n",
       "      <td>0.0</td>\n",
       "      <td>0.0</td>\n",
       "      <td>0.0</td>\n",
       "      <td>0.0</td>\n",
       "      <td>0.0</td>\n",
       "      <td>0.0</td>\n",
       "      <td>0.0</td>\n",
       "      <td>0.0</td>\n",
       "      <td>...</td>\n",
       "      <td>0.0</td>\n",
       "      <td>0.0</td>\n",
       "      <td>0.0</td>\n",
       "      <td>0.0</td>\n",
       "      <td>0.0</td>\n",
       "      <td>0.0</td>\n",
       "      <td>0.0</td>\n",
       "      <td>0.0</td>\n",
       "      <td>0.0</td>\n",
       "      <td>3</td>\n",
       "    </tr>\n",
       "    <tr>\n",
       "      <th>...</th>\n",
       "      <td>...</td>\n",
       "      <td>...</td>\n",
       "      <td>...</td>\n",
       "      <td>...</td>\n",
       "      <td>...</td>\n",
       "      <td>...</td>\n",
       "      <td>...</td>\n",
       "      <td>...</td>\n",
       "      <td>...</td>\n",
       "      <td>...</td>\n",
       "      <td>...</td>\n",
       "      <td>...</td>\n",
       "      <td>...</td>\n",
       "      <td>...</td>\n",
       "      <td>...</td>\n",
       "      <td>...</td>\n",
       "      <td>...</td>\n",
       "      <td>...</td>\n",
       "      <td>...</td>\n",
       "      <td>...</td>\n",
       "      <td>...</td>\n",
       "    </tr>\n",
       "    <tr>\n",
       "      <th>3322</th>\n",
       "      <td>0.0</td>\n",
       "      <td>0.0</td>\n",
       "      <td>0.0</td>\n",
       "      <td>0.0</td>\n",
       "      <td>0.0</td>\n",
       "      <td>0.0</td>\n",
       "      <td>0.0</td>\n",
       "      <td>0.0</td>\n",
       "      <td>0.0</td>\n",
       "      <td>0.0</td>\n",
       "      <td>...</td>\n",
       "      <td>0.0</td>\n",
       "      <td>0.0</td>\n",
       "      <td>0.0</td>\n",
       "      <td>0.0</td>\n",
       "      <td>0.0</td>\n",
       "      <td>0.0</td>\n",
       "      <td>0.0</td>\n",
       "      <td>0.0</td>\n",
       "      <td>0.0</td>\n",
       "      <td>3</td>\n",
       "    </tr>\n",
       "    <tr>\n",
       "      <th>3323</th>\n",
       "      <td>0.0</td>\n",
       "      <td>0.0</td>\n",
       "      <td>0.0</td>\n",
       "      <td>0.0</td>\n",
       "      <td>0.0</td>\n",
       "      <td>0.0</td>\n",
       "      <td>0.0</td>\n",
       "      <td>0.0</td>\n",
       "      <td>0.0</td>\n",
       "      <td>0.0</td>\n",
       "      <td>...</td>\n",
       "      <td>0.0</td>\n",
       "      <td>0.0</td>\n",
       "      <td>0.0</td>\n",
       "      <td>0.0</td>\n",
       "      <td>0.0</td>\n",
       "      <td>0.0</td>\n",
       "      <td>0.0</td>\n",
       "      <td>0.0</td>\n",
       "      <td>0.0</td>\n",
       "      <td>3</td>\n",
       "    </tr>\n",
       "    <tr>\n",
       "      <th>3324</th>\n",
       "      <td>0.0</td>\n",
       "      <td>0.0</td>\n",
       "      <td>0.0</td>\n",
       "      <td>0.0</td>\n",
       "      <td>0.0</td>\n",
       "      <td>0.0</td>\n",
       "      <td>0.0</td>\n",
       "      <td>0.0</td>\n",
       "      <td>0.0</td>\n",
       "      <td>0.0</td>\n",
       "      <td>...</td>\n",
       "      <td>0.0</td>\n",
       "      <td>0.0</td>\n",
       "      <td>0.0</td>\n",
       "      <td>0.0</td>\n",
       "      <td>0.0</td>\n",
       "      <td>0.0</td>\n",
       "      <td>0.0</td>\n",
       "      <td>0.0</td>\n",
       "      <td>0.0</td>\n",
       "      <td>3</td>\n",
       "    </tr>\n",
       "    <tr>\n",
       "      <th>3325</th>\n",
       "      <td>0.0</td>\n",
       "      <td>0.0</td>\n",
       "      <td>0.0</td>\n",
       "      <td>0.0</td>\n",
       "      <td>0.0</td>\n",
       "      <td>0.0</td>\n",
       "      <td>0.0</td>\n",
       "      <td>0.0</td>\n",
       "      <td>0.0</td>\n",
       "      <td>0.0</td>\n",
       "      <td>...</td>\n",
       "      <td>0.0</td>\n",
       "      <td>0.0</td>\n",
       "      <td>0.0</td>\n",
       "      <td>0.0</td>\n",
       "      <td>0.0</td>\n",
       "      <td>0.0</td>\n",
       "      <td>0.0</td>\n",
       "      <td>0.0</td>\n",
       "      <td>0.0</td>\n",
       "      <td>1</td>\n",
       "    </tr>\n",
       "    <tr>\n",
       "      <th>3326</th>\n",
       "      <td>0.0</td>\n",
       "      <td>0.0</td>\n",
       "      <td>0.0</td>\n",
       "      <td>0.0</td>\n",
       "      <td>0.0</td>\n",
       "      <td>0.0</td>\n",
       "      <td>0.0</td>\n",
       "      <td>0.0</td>\n",
       "      <td>0.0</td>\n",
       "      <td>0.0</td>\n",
       "      <td>...</td>\n",
       "      <td>0.0</td>\n",
       "      <td>0.0</td>\n",
       "      <td>0.0</td>\n",
       "      <td>0.0</td>\n",
       "      <td>0.0</td>\n",
       "      <td>0.0</td>\n",
       "      <td>0.0</td>\n",
       "      <td>0.0</td>\n",
       "      <td>0.0</td>\n",
       "      <td>5</td>\n",
       "    </tr>\n",
       "  </tbody>\n",
       "</table>\n",
       "<p>3327 rows × 3704 columns</p>\n",
       "</div>"
      ],
      "text/plain": [
       "        0    1    2    3    4    5    6    7    8    9  ...  3694  3695  3696   \n",
       "0     0.0  0.0  0.0  0.0  0.0  0.0  0.0  0.0  0.0  0.0  ...   0.0   0.0   0.0  \\\n",
       "1     0.0  0.0  0.0  0.0  0.0  0.0  0.0  0.0  0.0  0.0  ...   0.0   0.0   0.0   \n",
       "2     0.0  0.0  0.0  0.0  0.0  0.0  0.0  0.0  0.0  0.0  ...   0.0   0.0   0.0   \n",
       "3     0.0  0.0  0.0  0.0  0.0  0.0  0.0  0.0  0.0  0.0  ...   0.0   0.0   0.0   \n",
       "4     0.0  0.0  0.0  0.0  0.0  0.0  0.0  0.0  0.0  0.0  ...   0.0   0.0   0.0   \n",
       "...   ...  ...  ...  ...  ...  ...  ...  ...  ...  ...  ...   ...   ...   ...   \n",
       "3322  0.0  0.0  0.0  0.0  0.0  0.0  0.0  0.0  0.0  0.0  ...   0.0   0.0   0.0   \n",
       "3323  0.0  0.0  0.0  0.0  0.0  0.0  0.0  0.0  0.0  0.0  ...   0.0   0.0   0.0   \n",
       "3324  0.0  0.0  0.0  0.0  0.0  0.0  0.0  0.0  0.0  0.0  ...   0.0   0.0   0.0   \n",
       "3325  0.0  0.0  0.0  0.0  0.0  0.0  0.0  0.0  0.0  0.0  ...   0.0   0.0   0.0   \n",
       "3326  0.0  0.0  0.0  0.0  0.0  0.0  0.0  0.0  0.0  0.0  ...   0.0   0.0   0.0   \n",
       "\n",
       "      3697  3698  3699  3700  3701  3702  label  \n",
       "0      0.0   0.0   0.0   0.0   0.0   0.0      3  \n",
       "1      0.0   0.0   0.0   0.0   0.0   0.0      1  \n",
       "2      0.0   0.0   0.0   0.0   0.0   0.0      5  \n",
       "3      0.0   0.0   0.0   0.0   0.0   0.0      5  \n",
       "4      0.0   0.0   0.0   0.0   0.0   0.0      3  \n",
       "...    ...   ...   ...   ...   ...   ...    ...  \n",
       "3322   0.0   0.0   0.0   0.0   0.0   0.0      3  \n",
       "3323   0.0   0.0   0.0   0.0   0.0   0.0      3  \n",
       "3324   0.0   0.0   0.0   0.0   0.0   0.0      3  \n",
       "3325   0.0   0.0   0.0   0.0   0.0   0.0      1  \n",
       "3326   0.0   0.0   0.0   0.0   0.0   0.0      5  \n",
       "\n",
       "[3327 rows x 3704 columns]"
      ]
     },
     "execution_count": 16,
     "metadata": {},
     "output_type": "execute_result"
    }
   ],
   "source": [
    "df_x"
   ]
  },
  {
   "cell_type": "code",
   "execution_count": 17,
   "id": "d4cec733-2754-4298-871d-37b435697287",
   "metadata": {},
   "outputs": [],
   "source": [
    "import torch\n",
    "torch.manual_seed(0)\n",
    "from torch.nn import Linear\n",
    "import torch.nn.functional as F"
   ]
  },
  {
   "cell_type": "code",
   "execution_count": 18,
   "id": "39b4f8f2-82a7-4c38-8027-ea00b6aec323",
   "metadata": {},
   "outputs": [],
   "source": [
    "def accuracy(y_pred, y_true):\n",
    "    return torch.sum(y_pred == y_true) / len(y_true)"
   ]
  },
  {
   "cell_type": "code",
   "execution_count": 19,
   "id": "702de6e7-c131-4794-96d8-6dc2347ce523",
   "metadata": {},
   "outputs": [],
   "source": [
    "class MLP(torch.nn.Module):\n",
    "    \n",
    "    def __init__(self, dim_in, dim_h, dim_out):\n",
    "        super().__init__()\n",
    "        self.linear1 = Linear(dim_in, dim_h)\n",
    "        self.linear2 = Linear(dim_h, dim_out)\n",
    "        \n",
    "    def forward(self, x):\n",
    "        x = self.linear1(x)\n",
    "        x = torch.relu(x)\n",
    "        x = self.linear2(x)\n",
    "        \n",
    "        return F.log_softmax(x, dim=1)\n",
    "    \n",
    "    def fit(self, data, epochs):\n",
    "        criterion = torch.nn.CrossEntropyLoss()\n",
    "        optimizer = torch.optim.Adam(self.parameters(), lr=0.01, weight_decay=5e-4)\n",
    "        self.train()\n",
    "        \n",
    "        for epoch in range(epochs+1):\n",
    "            optimizer.zero_grad()\n",
    "            out = self(data.x)\n",
    "            loss = criterion(out[data.train_mask], data.y[data.train_mask])\n",
    "            acc = accuracy(out[data.train_mask].argmax(dim=1),\n",
    "                          data.y[data.train_mask])\n",
    "            \n",
    "            loss.backward()\n",
    "            optimizer.step()\n",
    "            \n",
    "            if epoch % 20 ==0:\n",
    "                val_loss = criterion(out[data.val_mask], data.y[data.val_mask])\n",
    "                val_acc = accuracy(out[data.val_mask].argmax(dim=1), data.y[data.val_mask])\n",
    "                print(f'Epoch {epoch:>3} | Train Loss: {loss:.3f} | Train Acc:'\n",
    "                      f' {acc*100:>5.2f}% | Val Loss: {val_loss:.2f} | '\n",
    "                      f'Val Acc: {val_acc*100:.2f}%')\n",
    "\n",
    "    @torch.no_grad()      \n",
    "    def test(self, data):\n",
    "        self.eval()\n",
    "        out = self(data.x)\n",
    "        acc = accuracy(out.argmax(dim=1)[data.test_mask], data.y[data.test_mask])\n",
    "        return acc\n",
    "                \n"
   ]
  },
  {
   "cell_type": "code",
   "execution_count": 20,
   "id": "aaaa6839-ce53-4d39-b9ad-1a8771bf0afc",
   "metadata": {},
   "outputs": [],
   "source": [
    "mlp = MLP(dataset_CSeer.num_features, 16, dataset_CSeer.num_classes)"
   ]
  },
  {
   "cell_type": "code",
   "execution_count": 21,
   "id": "1e5b8bee-29e9-4e2a-b862-e1d9baecb08f",
   "metadata": {},
   "outputs": [
    {
     "name": "stdout",
     "output_type": "stream",
     "text": [
      "MLP(\n",
      "  (linear1): Linear(in_features=3703, out_features=16, bias=True)\n",
      "  (linear2): Linear(in_features=16, out_features=6, bias=True)\n",
      ")\n"
     ]
    }
   ],
   "source": [
    "print(mlp)"
   ]
  },
  {
   "cell_type": "code",
   "execution_count": 23,
   "id": "8c639187-5511-4069-bafe-cbd08610ea30",
   "metadata": {},
   "outputs": [
    {
     "name": "stdout",
     "output_type": "stream",
     "text": [
      "Epoch   0 | Train Loss: 1.799 | Train Acc: 16.67% | Val Loss: 1.78 | Val Acc: 18.80%\n",
      "Epoch  20 | Train Loss: 0.004 | Train Acc: 100.00% | Val Loss: 1.29 | Val Acc: 53.20%\n",
      "Epoch  40 | Train Loss: 0.001 | Train Acc: 100.00% | Val Loss: 1.29 | Val Acc: 53.20%\n",
      "Epoch  60 | Train Loss: 0.002 | Train Acc: 100.00% | Val Loss: 1.27 | Val Acc: 55.20%\n",
      "Epoch  80 | Train Loss: 0.005 | Train Acc: 100.00% | Val Loss: 1.25 | Val Acc: 56.60%\n",
      "Epoch 100 | Train Loss: 0.006 | Train Acc: 100.00% | Val Loss: 1.22 | Val Acc: 56.80%\n"
     ]
    }
   ],
   "source": [
    "mlp.fit(dataset_CSeer.data, epochs=100)"
   ]
  },
  {
   "cell_type": "code",
   "execution_count": 24,
   "id": "b6ede4fe-6aaa-4050-8c4b-4f568b65234f",
   "metadata": {},
   "outputs": [],
   "source": [
    "acc = mlp.test(dataset_CSeer.data)"
   ]
  },
  {
   "cell_type": "code",
   "execution_count": 25,
   "id": "85419a36-c05b-418b-9b86-e50393256383",
   "metadata": {},
   "outputs": [
    {
     "name": "stdout",
     "output_type": "stream",
     "text": [
      "\n",
      "MLP test accuracy: 55.40%\n"
     ]
    }
   ],
   "source": [
    "print(f'\\nMLP test accuracy: {acc*100:.2f}%')"
   ]
  },
  {
   "cell_type": "markdown",
   "id": "92c9276a-d44c-4314-a382-ebc989a4077e",
   "metadata": {},
   "source": [
    "## PubMed graph"
   ]
  },
  {
   "cell_type": "code",
   "execution_count": 26,
   "id": "c4acfd4d-981d-4361-a3e0-821eab8ab9b6",
   "metadata": {},
   "outputs": [],
   "source": [
    "mlp_pm = MLP(dataset_PM.num_features, 16, dataset_PM.num_classes)"
   ]
  },
  {
   "cell_type": "code",
   "execution_count": 28,
   "id": "b6faef8a-52d4-4130-bbdb-42b39ac2344e",
   "metadata": {},
   "outputs": [
    {
     "name": "stdout",
     "output_type": "stream",
     "text": [
      "Epoch   0 | Train Loss: 1.100 | Train Acc: 33.33% | Val Loss: 1.11 | Val Acc: 19.60%\n",
      "Epoch  20 | Train Loss: 0.578 | Train Acc: 100.00% | Val Loss: 0.92 | Val Acc: 64.60%\n",
      "Epoch  40 | Train Loss: 0.113 | Train Acc: 100.00% | Val Loss: 0.73 | Val Acc: 69.00%\n",
      "Epoch  60 | Train Loss: 0.050 | Train Acc: 100.00% | Val Loss: 0.70 | Val Acc: 69.00%\n",
      "Epoch  80 | Train Loss: 0.046 | Train Acc: 100.00% | Val Loss: 0.69 | Val Acc: 70.80%\n",
      "Epoch 100 | Train Loss: 0.039 | Train Acc: 100.00% | Val Loss: 0.68 | Val Acc: 70.80%\n"
     ]
    }
   ],
   "source": [
    "mlp_pm.fit(dataset_PM.data, epochs=100)"
   ]
  },
  {
   "cell_type": "code",
   "execution_count": 29,
   "id": "11bdf7c6-967c-48c2-b966-f9550b30dd88",
   "metadata": {},
   "outputs": [
    {
     "name": "stdout",
     "output_type": "stream",
     "text": [
      "\n",
      "MLP test accuracy: 72.10%\n"
     ]
    }
   ],
   "source": [
    "acc = mlp_pm.test(dataset_PM.data)\n",
    "print(f'\\nMLP test accuracy: {acc*100:.2f}%')"
   ]
  },
  {
   "cell_type": "markdown",
   "id": "e43e1777-ad7b-499d-a72d-5574a7e7c405",
   "metadata": {},
   "source": [
    "## Vanilla GNN"
   ]
  },
  {
   "cell_type": "code",
   "execution_count": 30,
   "id": "f952f542-2032-4aa7-a172-018861735eca",
   "metadata": {},
   "outputs": [],
   "source": [
    "class VanillaGNNLayer(torch.nn.Module):\n",
    "    def __init__(self, dim_in, dim_out):\n",
    "        super().__init__()\n",
    "        self.linear = Linear(dim_in, dim_out, bias=False)\n",
    "\n",
    "    def forward(self, x, adjacency):\n",
    "        x = self.linear(x)\n",
    "        x = torch.sparse.mm(adjacency, x)\n",
    "        return x"
   ]
  },
  {
   "cell_type": "code",
   "execution_count": 31,
   "id": "afa63e09-31a9-44ac-8cbd-72be060e10fa",
   "metadata": {},
   "outputs": [
    {
     "data": {
      "text/plain": [
       "tensor([[1., 0., 0.,  ..., 0., 0., 0.],\n",
       "        [0., 1., 0.,  ..., 0., 0., 0.],\n",
       "        [0., 0., 1.,  ..., 0., 0., 0.],\n",
       "        ...,\n",
       "        [0., 0., 0.,  ..., 1., 0., 0.],\n",
       "        [0., 0., 0.,  ..., 0., 1., 0.],\n",
       "        [0., 0., 0.,  ..., 0., 0., 1.]])"
      ]
     },
     "execution_count": 31,
     "metadata": {},
     "output_type": "execute_result"
    }
   ],
   "source": [
    "from torch_geometric.utils import to_dense_adj\n",
    "\n",
    "adjacency_cseer = to_dense_adj(dataset_CSeer.data.edge_index)[0]\n",
    "adjacency_cseer += torch.eye(len(adjacency_cseer))\n",
    "adjacency_cseer\n",
    "\n",
    "\n",
    "\n",
    "adjacency_pm = to_dense_adj(dataset_PM.data.edge_index)[0]\n",
    "adjacency_pm += torch.eye(len(adjacency_pm))\n",
    "adjacency_pm"
   ]
  },
  {
   "cell_type": "code",
   "execution_count": 32,
   "id": "1de1cd79-4712-45a6-9f24-518903c2da6a",
   "metadata": {},
   "outputs": [
    {
     "data": {
      "text/plain": [
       "(torch.Size([3327, 3327]), torch.Size([19717, 19717]))"
      ]
     },
     "execution_count": 32,
     "metadata": {},
     "output_type": "execute_result"
    }
   ],
   "source": [
    "adjacency_cseer.shape, adjacency_pm.shape"
   ]
  },
  {
   "cell_type": "code",
   "execution_count": 33,
   "id": "ccb037ec-9a5e-4bb1-b8e9-9e829be2e339",
   "metadata": {},
   "outputs": [],
   "source": [
    "class VanillaGNN(torch.nn.Module):\n",
    "    \"\"\"Vanilla Graph Neural Network\"\"\"\n",
    "    def __init__(self, dim_in, dim_h, dim_out):\n",
    "        super().__init__()\n",
    "        self.gnn1 = VanillaGNNLayer(dim_in, dim_h)\n",
    "        self.gnn2 = VanillaGNNLayer(dim_h, dim_out)\n",
    "\n",
    "    def forward(self, x, adjacency):\n",
    "        h = self.gnn1(x, adjacency)\n",
    "        h = torch.relu(h)\n",
    "        h = self.gnn2(h, adjacency)\n",
    "        return F.log_softmax(h, dim=1)\n",
    "\n",
    "    def fit(self, data, epochs):\n",
    "        criterion = torch.nn.CrossEntropyLoss()\n",
    "        optimizer = torch.optim.Adam(self.parameters(),\n",
    "                                      lr=0.01,\n",
    "                                      weight_decay=5e-4)\n",
    "\n",
    "        self.train()\n",
    "        for epoch in range(epochs+1):\n",
    "            optimizer.zero_grad()\n",
    "            out = self(data.x, adjacency)\n",
    "            loss = criterion(out[data.train_mask], data.y[data.train_mask])\n",
    "            acc = accuracy(out[data.train_mask].argmax(dim=1),\n",
    "                          data.y[data.train_mask])\n",
    "            loss.backward()\n",
    "            optimizer.step()\n",
    "\n",
    "            if(epoch % 20 == 0):\n",
    "                val_loss = criterion(out[data.val_mask], data.y[data.val_mask])\n",
    "                val_acc = accuracy(out[data.val_mask].argmax(dim=1),\n",
    "                                  data.y[data.val_mask])\n",
    "                print(f'Epoch {epoch:>3} | Train Loss: {loss:.3f} | Train Acc:'\n",
    "                      f' {acc*100:>5.2f}% | Val Loss: {val_loss:.2f} | '\n",
    "                      f'Val Acc: {val_acc*100:.2f}%')\n",
    "\n",
    "    @torch.no_grad()\n",
    "    def test(self, data):\n",
    "        self.eval()\n",
    "        out = self(data.x, adjacency)\n",
    "        acc = accuracy(out.argmax(dim=1)[data.test_mask], data.y[data.test_mask])\n",
    "        return acc"
   ]
  },
  {
   "cell_type": "code",
   "execution_count": 34,
   "id": "2ff7dc47-de43-4e31-9fda-6638d6dfd347",
   "metadata": {},
   "outputs": [
    {
     "name": "stdout",
     "output_type": "stream",
     "text": [
      "VanillaGNN(\n",
      "  (gnn1): VanillaGNNLayer(\n",
      "    (linear): Linear(in_features=3703, out_features=16, bias=False)\n",
      "  )\n",
      "  (gnn2): VanillaGNNLayer(\n",
      "    (linear): Linear(in_features=16, out_features=6, bias=False)\n",
      "  )\n",
      ")\n"
     ]
    }
   ],
   "source": [
    "# Create the Vanilla GNN model\n",
    "\n",
    "adjacency = adjacency_cseer\n",
    "gnn = VanillaGNN(dataset_CSeer.num_features, 16, dataset_CSeer.num_classes)\n",
    "print(gnn)"
   ]
  },
  {
   "cell_type": "code",
   "execution_count": 35,
   "id": "217573bc-9fea-43c7-a99d-0d225b4a578f",
   "metadata": {},
   "outputs": [
    {
     "name": "stdout",
     "output_type": "stream",
     "text": [
      "Epoch   0 | Train Loss: 1.752 | Train Acc: 15.83% | Val Loss: 1.76 | Val Acc: 20.00%\n",
      "Epoch  20 | Train Loss: 0.000 | Train Acc: 100.00% | Val Loss: 3.30 | Val Acc: 63.60%\n",
      "Epoch  40 | Train Loss: 0.000 | Train Acc: 100.00% | Val Loss: 3.72 | Val Acc: 63.60%\n",
      "Epoch  60 | Train Loss: 0.000 | Train Acc: 100.00% | Val Loss: 3.49 | Val Acc: 63.80%\n",
      "Epoch  80 | Train Loss: 0.000 | Train Acc: 100.00% | Val Loss: 3.17 | Val Acc: 64.00%\n",
      "Epoch 100 | Train Loss: 0.000 | Train Acc: 100.00% | Val Loss: 2.90 | Val Acc: 64.00%\n"
     ]
    }
   ],
   "source": [
    "# Train\n",
    "gnn.fit(dataset_CSeer.data, epochs=100)"
   ]
  },
  {
   "cell_type": "code",
   "execution_count": 36,
   "id": "0ec878e1-3f01-40e8-a5a7-a49b935f2501",
   "metadata": {},
   "outputs": [
    {
     "name": "stdout",
     "output_type": "stream",
     "text": [
      "\n",
      "GNN test accuracy: 64.10%\n"
     ]
    }
   ],
   "source": [
    "# Test\n",
    "acc = gnn.test(dataset_CSeer.data)\n",
    "print(f'\\nGNN test accuracy: {acc*100:.2f}%')"
   ]
  },
  {
   "cell_type": "markdown",
   "id": "0045428b-96c9-4a95-9544-cb27fa56f737",
   "metadata": {},
   "source": [
    "## GNN on Pubmed"
   ]
  },
  {
   "cell_type": "code",
   "execution_count": 38,
   "id": "b48a17b6-5320-423c-bcda-407309e21adb",
   "metadata": {},
   "outputs": [],
   "source": [
    "adjacency=adjacency_pm\n",
    "gnn_pm = VanillaGNN(dataset_PM.num_features, 16, dataset_PM.num_classes)"
   ]
  },
  {
   "cell_type": "code",
   "execution_count": 39,
   "id": "cb24b768-8417-4387-9813-4f82a67071c2",
   "metadata": {},
   "outputs": [
    {
     "name": "stdout",
     "output_type": "stream",
     "text": [
      "VanillaGNN(\n",
      "  (gnn1): VanillaGNNLayer(\n",
      "    (linear): Linear(in_features=500, out_features=16, bias=False)\n",
      "  )\n",
      "  (gnn2): VanillaGNNLayer(\n",
      "    (linear): Linear(in_features=16, out_features=3, bias=False)\n",
      "  )\n",
      ")\n"
     ]
    }
   ],
   "source": [
    "print(gnn_pm)"
   ]
  },
  {
   "cell_type": "code",
   "execution_count": 40,
   "id": "f61f6a0b-8ba1-4a16-b44d-d62a35930c1f",
   "metadata": {},
   "outputs": [
    {
     "name": "stdout",
     "output_type": "stream",
     "text": [
      "Epoch   0 | Train Loss: 1.153 | Train Acc: 26.67% | Val Loss: 1.09 | Val Acc: 41.00%\n",
      "Epoch  20 | Train Loss: 0.061 | Train Acc: 100.00% | Val Loss: 0.87 | Val Acc: 79.00%\n",
      "Epoch  40 | Train Loss: 0.004 | Train Acc: 100.00% | Val Loss: 1.24 | Val Acc: 78.80%\n",
      "Epoch  60 | Train Loss: 0.002 | Train Acc: 100.00% | Val Loss: 1.31 | Val Acc: 78.80%\n",
      "Epoch  80 | Train Loss: 0.002 | Train Acc: 100.00% | Val Loss: 1.28 | Val Acc: 79.00%\n",
      "Epoch 100 | Train Loss: 0.003 | Train Acc: 100.00% | Val Loss: 1.24 | Val Acc: 79.60%\n"
     ]
    }
   ],
   "source": [
    "gnn_pm.fit(dataset_PM.data, epochs=100)"
   ]
  },
  {
   "cell_type": "code",
   "execution_count": 43,
   "id": "f9ebf348-0db5-4458-b11a-acce3dd2e2ef",
   "metadata": {},
   "outputs": [
    {
     "name": "stdout",
     "output_type": "stream",
     "text": [
      "\n",
      "GNN test accuracy: 77.70%\n"
     ]
    }
   ],
   "source": [
    "acc = gnn_pm.test(dataset_PM.data)\n",
    "print(f'\\nGNN test accuracy: {acc*100:.2f}%')"
   ]
  },
  {
   "cell_type": "code",
   "execution_count": null,
   "id": "ba91a8a3-9416-4ba9-80ca-77b5ed9c8213",
   "metadata": {},
   "outputs": [],
   "source": []
  }
 ],
 "metadata": {
  "kernelspec": {
   "display_name": "Python 3",
   "language": "python",
   "name": "python3"
  },
  "language_info": {
   "codemirror_mode": {
    "name": "ipython",
    "version": 3
   },
   "file_extension": ".py",
   "mimetype": "text/x-python",
   "name": "python",
   "nbconvert_exporter": "python",
   "pygments_lexer": "ipython3",
   "version": "3.9.15"
  }
 },
 "nbformat": 4,
 "nbformat_minor": 5
}
